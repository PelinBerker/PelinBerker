{
 "cells": [
  {
   "cell_type": "code",
   "execution_count": 2,
   "metadata": {},
   "outputs": [],
   "source": [
    "import numpy as np\n",
    "import pandas as pd\n",
    "import seaborn as sns\n",
    "import pandas as pd\n",
    "from sklearn import linear_model\n",
    "import statsmodels.api as sm\n",
    "import matplotlib.pyplot as plt\n",
    "from sklearn.model_selection import train_test_split\n",
    "from sklearn.linear_model import LinearRegression\n",
    "from sklearn.model_selection import train_test_split\n",
    "from sklearn.metrics import mean_absolute_error\n",
    "import statsmodels.api as sm\n",
    "from statsmodels.tools.eval_measures import mse, rmse\n",
    "\n",
    "import warnings\n",
    "warnings.filterwarnings('ignore')"
   ]
  },
  {
   "cell_type": "code",
   "execution_count": 34,
   "metadata": {},
   "outputs": [],
   "source": [
    "house_prices_df = pd.read_csv(\"https://djl-lms-assets.s3.eu-central-1.amazonaws.com/datasets/house_prices.csv\", sep = \";\")"
   ]
  },
  {
   "cell_type": "code",
   "execution_count": 35,
   "metadata": {},
   "outputs": [],
   "source": [
    "df=house_prices_df[[\"SalePrice\",\"BldgType\",\"YearBuilt\",\"FullBath\",\"BedroomAbvGr\",\"OverallQual\",\"GarageCars\",\"Street\",\"GrLivArea\"]]"
   ]
  },
  {
   "cell_type": "markdown",
   "metadata": {},
   "source": [
    "Verilerinizi eğitim ve test kümelerine ayırın."
   ]
  },
  {
   "cell_type": "code",
   "execution_count": 36,
   "metadata": {},
   "outputs": [
    {
     "name": "stdout",
     "output_type": "stream",
     "text": [
      "Eğitim kümesindeki gözlem sayısı : 1168\n",
      "Test kümesindeki gözlem sayısı   : 292\n"
     ]
    }
   ],
   "source": [
    "X_train, X_test, y_train, y_test = train_test_split(X, Y, test_size = 0.2, random_state = 465)\n",
    "\n",
    "print(\"Eğitim kümesindeki gözlem sayısı : {}\".format(X_train.shape[0]))\n",
    "print(\"Test kümesindeki gözlem sayısı   : {}\".format(X_test.shape[0]))"
   ]
  },
  {
   "cell_type": "markdown",
   "metadata": {},
   "source": [
    "Modelinizi eğitim kümesinden önceki derste olduğu gibi oluşturun. Modelinizin uygunluğunu değerlendirin."
   ]
  },
  {
   "cell_type": "code",
   "execution_count": 37,
   "metadata": {},
   "outputs": [
    {
     "data": {
      "text/html": [
       "<table class=\"simpletable\">\n",
       "<caption>OLS Regression Results</caption>\n",
       "<tr>\n",
       "  <th>Dep. Variable:</th>        <td>SalePrice</td>    <th>  R-squared:         </th> <td>   0.810</td>\n",
       "</tr>\n",
       "<tr>\n",
       "  <th>Model:</th>                   <td>OLS</td>       <th>  Adj. R-squared:    </th> <td>   0.808</td>\n",
       "</tr>\n",
       "<tr>\n",
       "  <th>Method:</th>             <td>Least Squares</td>  <th>  F-statistic:       </th> <td>   446.8</td>\n",
       "</tr>\n",
       "<tr>\n",
       "  <th>Date:</th>             <td>Sat, 17 Apr 2021</td> <th>  Prob (F-statistic):</th>  <td>  0.00</td> \n",
       "</tr>\n",
       "<tr>\n",
       "  <th>Time:</th>                 <td>23:11:09</td>     <th>  Log-Likelihood:    </th> <td>  384.85</td>\n",
       "</tr>\n",
       "<tr>\n",
       "  <th>No. Observations:</th>      <td>  1168</td>      <th>  AIC:               </th> <td>  -745.7</td>\n",
       "</tr>\n",
       "<tr>\n",
       "  <th>Df Residuals:</th>          <td>  1156</td>      <th>  BIC:               </th> <td>  -684.9</td>\n",
       "</tr>\n",
       "<tr>\n",
       "  <th>Df Model:</th>              <td>    11</td>      <th>                     </th>     <td> </td>   \n",
       "</tr>\n",
       "<tr>\n",
       "  <th>Covariance Type:</th>      <td>nonrobust</td>    <th>                     </th>     <td> </td>   \n",
       "</tr>\n",
       "</table>\n",
       "<table class=\"simpletable\">\n",
       "<tr>\n",
       "         <td></td>            <th>coef</th>     <th>std err</th>      <th>t</th>      <th>P>|t|</th>  <th>[0.025</th>    <th>0.975]</th>  \n",
       "</tr>\n",
       "<tr>\n",
       "  <th>const</th>           <td>    2.7837</td> <td>    0.277</td> <td>   10.034</td> <td> 0.000</td> <td>    2.239</td> <td>    3.328</td>\n",
       "</tr>\n",
       "<tr>\n",
       "  <th>YearBuilt</th>       <td>    0.0031</td> <td>    0.000</td> <td>   12.439</td> <td> 0.000</td> <td>    0.003</td> <td>    0.004</td>\n",
       "</tr>\n",
       "<tr>\n",
       "  <th>FullBath</th>        <td>   -0.0046</td> <td>    0.014</td> <td>   -0.329</td> <td> 0.742</td> <td>   -0.032</td> <td>    0.023</td>\n",
       "</tr>\n",
       "<tr>\n",
       "  <th>BedroomAbvGr</th>    <td>   -0.0076</td> <td>    0.008</td> <td>   -0.897</td> <td> 0.370</td> <td>   -0.024</td> <td>    0.009</td>\n",
       "</tr>\n",
       "<tr>\n",
       "  <th>OverallQual</th>     <td>    0.1091</td> <td>    0.006</td> <td>   17.660</td> <td> 0.000</td> <td>    0.097</td> <td>    0.121</td>\n",
       "</tr>\n",
       "<tr>\n",
       "  <th>GarageCars</th>      <td>    0.0919</td> <td>    0.010</td> <td>    9.647</td> <td> 0.000</td> <td>    0.073</td> <td>    0.111</td>\n",
       "</tr>\n",
       "<tr>\n",
       "  <th>GrLivArea</th>       <td>    0.0003</td> <td> 1.65e-05</td> <td>   16.019</td> <td> 0.000</td> <td>    0.000</td> <td>    0.000</td>\n",
       "</tr>\n",
       "<tr>\n",
       "  <th>BldgType_1Fam</th>   <td>    0.6426</td> <td>    0.056</td> <td>   11.438</td> <td> 0.000</td> <td>    0.532</td> <td>    0.753</td>\n",
       "</tr>\n",
       "<tr>\n",
       "  <th>BldgType_2fmCon</th> <td>    0.6547</td> <td>    0.059</td> <td>   11.110</td> <td> 0.000</td> <td>    0.539</td> <td>    0.770</td>\n",
       "</tr>\n",
       "<tr>\n",
       "  <th>BldgType_Duplex</th> <td>    0.5374</td> <td>    0.062</td> <td>    8.704</td> <td> 0.000</td> <td>    0.416</td> <td>    0.659</td>\n",
       "</tr>\n",
       "<tr>\n",
       "  <th>BldgType_Twnhs</th>  <td>    0.4080</td> <td>    0.064</td> <td>    6.354</td> <td> 0.000</td> <td>    0.282</td> <td>    0.534</td>\n",
       "</tr>\n",
       "<tr>\n",
       "  <th>BldgType_TwnhsE</th> <td>    0.5410</td> <td>    0.061</td> <td>    8.871</td> <td> 0.000</td> <td>    0.421</td> <td>    0.661</td>\n",
       "</tr>\n",
       "<tr>\n",
       "  <th>Street_Grvl</th>     <td>    1.4148</td> <td>    0.148</td> <td>    9.586</td> <td> 0.000</td> <td>    1.125</td> <td>    1.704</td>\n",
       "</tr>\n",
       "<tr>\n",
       "  <th>Street_Pave</th>     <td>    1.3689</td> <td>    0.141</td> <td>    9.709</td> <td> 0.000</td> <td>    1.092</td> <td>    1.645</td>\n",
       "</tr>\n",
       "</table>\n",
       "<table class=\"simpletable\">\n",
       "<tr>\n",
       "  <th>Omnibus:</th>       <td>547.192</td> <th>  Durbin-Watson:     </th> <td>   1.846</td>\n",
       "</tr>\n",
       "<tr>\n",
       "  <th>Prob(Omnibus):</th> <td> 0.000</td>  <th>  Jarque-Bera (JB):  </th> <td>9068.313</td>\n",
       "</tr>\n",
       "<tr>\n",
       "  <th>Skew:</th>          <td>-1.736</td>  <th>  Prob(JB):          </th> <td>    0.00</td>\n",
       "</tr>\n",
       "<tr>\n",
       "  <th>Kurtosis:</th>      <td>16.201</td>  <th>  Cond. No.          </th> <td>5.23e+19</td>\n",
       "</tr>\n",
       "</table><br/><br/>Notes:<br/>[1] Standard Errors assume that the covariance matrix of the errors is correctly specified.<br/>[2] The smallest eigenvalue is 2.7e-30. This might indicate that there are<br/>strong multicollinearity problems or that the design matrix is singular."
      ],
      "text/plain": [
       "<class 'statsmodels.iolib.summary.Summary'>\n",
       "\"\"\"\n",
       "                            OLS Regression Results                            \n",
       "==============================================================================\n",
       "Dep. Variable:              SalePrice   R-squared:                       0.810\n",
       "Model:                            OLS   Adj. R-squared:                  0.808\n",
       "Method:                 Least Squares   F-statistic:                     446.8\n",
       "Date:                Sat, 17 Apr 2021   Prob (F-statistic):               0.00\n",
       "Time:                        23:11:09   Log-Likelihood:                 384.85\n",
       "No. Observations:                1168   AIC:                            -745.7\n",
       "Df Residuals:                    1156   BIC:                            -684.9\n",
       "Df Model:                          11                                         \n",
       "Covariance Type:            nonrobust                                         \n",
       "===================================================================================\n",
       "                      coef    std err          t      P>|t|      [0.025      0.975]\n",
       "-----------------------------------------------------------------------------------\n",
       "const               2.7837      0.277     10.034      0.000       2.239       3.328\n",
       "YearBuilt           0.0031      0.000     12.439      0.000       0.003       0.004\n",
       "FullBath           -0.0046      0.014     -0.329      0.742      -0.032       0.023\n",
       "BedroomAbvGr       -0.0076      0.008     -0.897      0.370      -0.024       0.009\n",
       "OverallQual         0.1091      0.006     17.660      0.000       0.097       0.121\n",
       "GarageCars          0.0919      0.010      9.647      0.000       0.073       0.111\n",
       "GrLivArea           0.0003   1.65e-05     16.019      0.000       0.000       0.000\n",
       "BldgType_1Fam       0.6426      0.056     11.438      0.000       0.532       0.753\n",
       "BldgType_2fmCon     0.6547      0.059     11.110      0.000       0.539       0.770\n",
       "BldgType_Duplex     0.5374      0.062      8.704      0.000       0.416       0.659\n",
       "BldgType_Twnhs      0.4080      0.064      6.354      0.000       0.282       0.534\n",
       "BldgType_TwnhsE     0.5410      0.061      8.871      0.000       0.421       0.661\n",
       "Street_Grvl         1.4148      0.148      9.586      0.000       1.125       1.704\n",
       "Street_Pave         1.3689      0.141      9.709      0.000       1.092       1.645\n",
       "==============================================================================\n",
       "Omnibus:                      547.192   Durbin-Watson:                   1.846\n",
       "Prob(Omnibus):                  0.000   Jarque-Bera (JB):             9068.313\n",
       "Skew:                          -1.736   Prob(JB):                         0.00\n",
       "Kurtosis:                      16.201   Cond. No.                     5.23e+19\n",
       "==============================================================================\n",
       "\n",
       "Notes:\n",
       "[1] Standard Errors assume that the covariance matrix of the errors is correctly specified.\n",
       "[2] The smallest eigenvalue is 2.7e-30. This might indicate that there are\n",
       "strong multicollinearity problems or that the design matrix is singular.\n",
       "\"\"\""
      ]
     },
     "execution_count": 37,
     "metadata": {},
     "output_type": "execute_result"
    }
   ],
   "source": [
    "X_train = sm.add_constant(X_train)\n",
    "result = sm.OLS(y_train, X_train).fit()\n",
    "result.summary()"
   ]
  },
  {
   "cell_type": "markdown",
   "metadata": {},
   "source": [
    "R^2 0.81 modelim tatmin edici."
   ]
  },
  {
   "cell_type": "markdown",
   "metadata": {},
   "source": [
    "Test kümesindeki ev fiyatlarını tahmin edin ve bu derste belirttiğimiz metrikleri kullanarak modelinizin performansını değerlendirin."
   ]
  },
  {
   "cell_type": "code",
   "execution_count": 40,
   "metadata": {},
   "outputs": [
    {
     "name": "stdout",
     "output_type": "stream",
     "text": [
      "Ortalama Mutlak Hata (MAE)        : 0.12446298083631627\n",
      "Ortalama Kare Hata (MSE)          : 0.027585483524963015\n",
      "Kök Ortalama Kare Hata (RMSE)     : 0.16608878205635386\n",
      "Ortalama Mutlak Yüzde Hata (MAPE) : 1.0362375247097944\n"
     ]
    }
   ],
   "source": [
    "X_test = sm.add_constant(X_test)\n",
    "\n",
    "y_preds = result.predict(X_test)\n",
    "\n",
    "print(\"Ortalama Mutlak Hata (MAE)        : {}\".format(mean_absolute_error(y_test, y_preds)))\n",
    "print(\"Ortalama Kare Hata (MSE)          : {}\".format(mse(y_test, y_preds)))\n",
    "print(\"Kök Ortalama Kare Hata (RMSE)     : {}\".format(rmse(y_test, y_preds)))\n",
    "print(\"Ortalama Mutlak Yüzde Hata (MAPE) : {}\".format(np.mean(np.abs((y_test - y_preds) / y_test)) * 100))"
   ]
  },
  {
   "cell_type": "markdown",
   "metadata": {},
   "source": [
    "Hatalar düşük gözüküyor. Modelin performansı iyi."
   ]
  }
 ],
 "metadata": {
  "kernelspec": {
   "display_name": "Python 3",
   "language": "python",
   "name": "python3"
  },
  "language_info": {
   "codemirror_mode": {
    "name": "ipython",
    "version": 3
   },
   "file_extension": ".py",
   "mimetype": "text/x-python",
   "name": "python",
   "nbconvert_exporter": "python",
   "pygments_lexer": "ipython3",
   "version": "3.8.5"
  }
 },
 "nbformat": 4,
 "nbformat_minor": 4
}
