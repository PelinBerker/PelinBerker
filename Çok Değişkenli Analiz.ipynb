{
 "cells": [
  {
   "cell_type": "markdown",
   "metadata": {},
   "source": [
    "https://www.kaggle.com/spscientist/students-performance-in-exams/home\n",
    "\n",
    "Sınavlardaki performans cinsiyete, kökene ve anne-baba eğitim durumuna göre değişiklik göstermekte midir?\n",
    "\n",
    "Öğle yemek tipinin sınav performansları ile bir ilişkisi var mı? Varsa bunu nasıl açıklayabilirsiniz?\n",
    "\n",
    "Hazırlık kurslarının sonav performansı üzerinde bir etkisi var mı?\n",
    "\n",
    "Birbiriyle korelasyonu en fazla olan dersler hangisidir?"
   ]
  },
  {
   "cell_type": "code",
   "execution_count": 2,
   "metadata": {},
   "outputs": [],
   "source": [
    "import numpy as np\n",
    "import pandas as pd\n",
    "import seaborn as sns\n",
    "import matplotlib.pyplot as plt\n",
    "import scipy.stats as stats\n",
    "from scipy.stats.mstats import winsorize\n",
    "from sklearn.preprocessing import normalize"
   ]
  },
  {
   "cell_type": "code",
   "execution_count": 4,
   "metadata": {},
   "outputs": [],
   "source": [
    "data = pd.read_csv(\"StudentsPerformance.csv\")"
   ]
  },
  {
   "cell_type": "code",
   "execution_count": 5,
   "metadata": {},
   "outputs": [
    {
     "data": {
      "text/html": [
       "<div>\n",
       "<style scoped>\n",
       "    .dataframe tbody tr th:only-of-type {\n",
       "        vertical-align: middle;\n",
       "    }\n",
       "\n",
       "    .dataframe tbody tr th {\n",
       "        vertical-align: top;\n",
       "    }\n",
       "\n",
       "    .dataframe thead th {\n",
       "        text-align: right;\n",
       "    }\n",
       "</style>\n",
       "<table border=\"1\" class=\"dataframe\">\n",
       "  <thead>\n",
       "    <tr style=\"text-align: right;\">\n",
       "      <th></th>\n",
       "      <th>gender</th>\n",
       "      <th>race/ethnicity</th>\n",
       "      <th>parental level of education</th>\n",
       "      <th>lunch</th>\n",
       "      <th>test preparation course</th>\n",
       "      <th>math score</th>\n",
       "      <th>reading score</th>\n",
       "      <th>writing score</th>\n",
       "    </tr>\n",
       "  </thead>\n",
       "  <tbody>\n",
       "    <tr>\n",
       "      <th>0</th>\n",
       "      <td>female</td>\n",
       "      <td>group B</td>\n",
       "      <td>bachelor's degree</td>\n",
       "      <td>standard</td>\n",
       "      <td>none</td>\n",
       "      <td>72</td>\n",
       "      <td>72</td>\n",
       "      <td>74</td>\n",
       "    </tr>\n",
       "    <tr>\n",
       "      <th>1</th>\n",
       "      <td>female</td>\n",
       "      <td>group C</td>\n",
       "      <td>some college</td>\n",
       "      <td>standard</td>\n",
       "      <td>completed</td>\n",
       "      <td>69</td>\n",
       "      <td>90</td>\n",
       "      <td>88</td>\n",
       "    </tr>\n",
       "    <tr>\n",
       "      <th>2</th>\n",
       "      <td>female</td>\n",
       "      <td>group B</td>\n",
       "      <td>master's degree</td>\n",
       "      <td>standard</td>\n",
       "      <td>none</td>\n",
       "      <td>90</td>\n",
       "      <td>95</td>\n",
       "      <td>93</td>\n",
       "    </tr>\n",
       "    <tr>\n",
       "      <th>3</th>\n",
       "      <td>male</td>\n",
       "      <td>group A</td>\n",
       "      <td>associate's degree</td>\n",
       "      <td>free/reduced</td>\n",
       "      <td>none</td>\n",
       "      <td>47</td>\n",
       "      <td>57</td>\n",
       "      <td>44</td>\n",
       "    </tr>\n",
       "    <tr>\n",
       "      <th>4</th>\n",
       "      <td>male</td>\n",
       "      <td>group C</td>\n",
       "      <td>some college</td>\n",
       "      <td>standard</td>\n",
       "      <td>none</td>\n",
       "      <td>76</td>\n",
       "      <td>78</td>\n",
       "      <td>75</td>\n",
       "    </tr>\n",
       "  </tbody>\n",
       "</table>\n",
       "</div>"
      ],
      "text/plain": [
       "   gender race/ethnicity parental level of education         lunch  \\\n",
       "0  female        group B           bachelor's degree      standard   \n",
       "1  female        group C                some college      standard   \n",
       "2  female        group B             master's degree      standard   \n",
       "3    male        group A          associate's degree  free/reduced   \n",
       "4    male        group C                some college      standard   \n",
       "\n",
       "  test preparation course  math score  reading score  writing score  \n",
       "0                    none          72             72             74  \n",
       "1               completed          69             90             88  \n",
       "2                    none          90             95             93  \n",
       "3                    none          47             57             44  \n",
       "4                    none          76             78             75  "
      ]
     },
     "execution_count": 5,
     "metadata": {},
     "output_type": "execute_result"
    }
   ],
   "source": [
    "data.head(5)"
   ]
  },
  {
   "cell_type": "code",
   "execution_count": 6,
   "metadata": {},
   "outputs": [
    {
     "name": "stdout",
     "output_type": "stream",
     "text": [
      "<class 'pandas.core.frame.DataFrame'>\n",
      "RangeIndex: 1000 entries, 0 to 999\n",
      "Data columns (total 8 columns):\n",
      " #   Column                       Non-Null Count  Dtype \n",
      "---  ------                       --------------  ----- \n",
      " 0   gender                       1000 non-null   object\n",
      " 1   race/ethnicity               1000 non-null   object\n",
      " 2   parental level of education  1000 non-null   object\n",
      " 3   lunch                        1000 non-null   object\n",
      " 4   test preparation course      1000 non-null   object\n",
      " 5   math score                   1000 non-null   int64 \n",
      " 6   reading score                1000 non-null   int64 \n",
      " 7   writing score                1000 non-null   int64 \n",
      "dtypes: int64(3), object(5)\n",
      "memory usage: 62.6+ KB\n"
     ]
    }
   ],
   "source": [
    "data.info()"
   ]
  },
  {
   "cell_type": "code",
   "execution_count": 7,
   "metadata": {},
   "outputs": [
    {
     "data": {
      "text/plain": [
       "gender                         0\n",
       "race/ethnicity                 0\n",
       "parental level of education    0\n",
       "lunch                          0\n",
       "test preparation course        0\n",
       "math score                     0\n",
       "reading score                  0\n",
       "writing score                  0\n",
       "dtype: int64"
      ]
     },
     "execution_count": 7,
     "metadata": {},
     "output_type": "execute_result"
    }
   ],
   "source": [
    "data.isnull().sum()"
   ]
  },
  {
   "cell_type": "code",
   "execution_count": 10,
   "metadata": {},
   "outputs": [
    {
     "data": {
      "text/html": [
       "<div>\n",
       "<style scoped>\n",
       "    .dataframe tbody tr th:only-of-type {\n",
       "        vertical-align: middle;\n",
       "    }\n",
       "\n",
       "    .dataframe tbody tr th {\n",
       "        vertical-align: top;\n",
       "    }\n",
       "\n",
       "    .dataframe thead th {\n",
       "        text-align: right;\n",
       "    }\n",
       "</style>\n",
       "<table border=\"1\" class=\"dataframe\">\n",
       "  <thead>\n",
       "    <tr style=\"text-align: right;\">\n",
       "      <th></th>\n",
       "      <th>math score</th>\n",
       "      <th>reading score</th>\n",
       "      <th>writing score</th>\n",
       "    </tr>\n",
       "  </thead>\n",
       "  <tbody>\n",
       "    <tr>\n",
       "      <th>count</th>\n",
       "      <td>1000.00000</td>\n",
       "      <td>1000.000000</td>\n",
       "      <td>1000.000000</td>\n",
       "    </tr>\n",
       "    <tr>\n",
       "      <th>mean</th>\n",
       "      <td>66.08900</td>\n",
       "      <td>69.169000</td>\n",
       "      <td>68.054000</td>\n",
       "    </tr>\n",
       "    <tr>\n",
       "      <th>std</th>\n",
       "      <td>15.16308</td>\n",
       "      <td>14.600192</td>\n",
       "      <td>15.195657</td>\n",
       "    </tr>\n",
       "    <tr>\n",
       "      <th>min</th>\n",
       "      <td>0.00000</td>\n",
       "      <td>17.000000</td>\n",
       "      <td>10.000000</td>\n",
       "    </tr>\n",
       "    <tr>\n",
       "      <th>25%</th>\n",
       "      <td>57.00000</td>\n",
       "      <td>59.000000</td>\n",
       "      <td>57.750000</td>\n",
       "    </tr>\n",
       "    <tr>\n",
       "      <th>50%</th>\n",
       "      <td>66.00000</td>\n",
       "      <td>70.000000</td>\n",
       "      <td>69.000000</td>\n",
       "    </tr>\n",
       "    <tr>\n",
       "      <th>75%</th>\n",
       "      <td>77.00000</td>\n",
       "      <td>79.000000</td>\n",
       "      <td>79.000000</td>\n",
       "    </tr>\n",
       "    <tr>\n",
       "      <th>max</th>\n",
       "      <td>100.00000</td>\n",
       "      <td>100.000000</td>\n",
       "      <td>100.000000</td>\n",
       "    </tr>\n",
       "  </tbody>\n",
       "</table>\n",
       "</div>"
      ],
      "text/plain": [
       "       math score  reading score  writing score\n",
       "count  1000.00000    1000.000000    1000.000000\n",
       "mean     66.08900      69.169000      68.054000\n",
       "std      15.16308      14.600192      15.195657\n",
       "min       0.00000      17.000000      10.000000\n",
       "25%      57.00000      59.000000      57.750000\n",
       "50%      66.00000      70.000000      69.000000\n",
       "75%      77.00000      79.000000      79.000000\n",
       "max     100.00000     100.000000     100.000000"
      ]
     },
     "execution_count": 10,
     "metadata": {},
     "output_type": "execute_result"
    }
   ],
   "source": [
    "data.describe()"
   ]
  },
  {
   "cell_type": "code",
   "execution_count": 15,
   "metadata": {},
   "outputs": [
    {
     "data": {
      "text/plain": [
       "65    36\n",
       "62    35\n",
       "59    32\n",
       "69    32\n",
       "73    27\n",
       "      ..\n",
       "22     1\n",
       "19     1\n",
       "18     1\n",
       "8      1\n",
       "0      1\n",
       "Name: math score, Length: 81, dtype: int64"
      ]
     },
     "execution_count": 15,
     "metadata": {},
     "output_type": "execute_result"
    }
   ],
   "source": [
    "data[\"math score\"].value_counts()"
   ]
  },
  {
   "cell_type": "code",
   "execution_count": 16,
   "metadata": {},
   "outputs": [
    {
     "data": {
      "text/plain": [
       "72    34\n",
       "74    33\n",
       "64    32\n",
       "73    30\n",
       "67    30\n",
       "      ..\n",
       "32     1\n",
       "28     1\n",
       "26     1\n",
       "23     1\n",
       "17     1\n",
       "Name: reading score, Length: 72, dtype: int64"
      ]
     },
     "execution_count": 16,
     "metadata": {},
     "output_type": "execute_result"
    }
   ],
   "source": [
    "data[\"reading score\"].value_counts()"
   ]
  },
  {
   "cell_type": "code",
   "execution_count": 17,
   "metadata": {},
   "outputs": [
    {
     "data": {
      "text/plain": [
       "74    35\n",
       "70    33\n",
       "68    31\n",
       "73    28\n",
       "62    27\n",
       "      ..\n",
       "23     1\n",
       "22     1\n",
       "19     1\n",
       "15     1\n",
       "10     1\n",
       "Name: writing score, Length: 77, dtype: int64"
      ]
     },
     "execution_count": 17,
     "metadata": {},
     "output_type": "execute_result"
    }
   ],
   "source": [
    "data[\"writing score\"].value_counts()"
   ]
  },
  {
   "cell_type": "code",
   "execution_count": 9,
   "metadata": {},
   "outputs": [
    {
     "data": {
      "image/png": "[encoded data removed]",
      "text/plain": [
       "<Figure size 432x288 with 3 Axes>"
      ]
     },
     "metadata": {
      "needs_background": "light"
     },
     "output_type": "display_data"
    }
   ],
   "source": [
    "plt.subplot(1,3,1)\n",
    "plt.boxplot(data[\"math score\"])\n",
    "\n",
    "plt.subplot(1,3,2)\n",
    "plt.boxplot(data[\"reading score\"])\n",
    "\n",
    "plt.subplot(1,3,3)\n",
    "plt.boxplot(data[\"writing score\"])\n",
    "plt.show()"
   ]
  },
  {
   "cell_type": "code",
   "execution_count": 19,
   "metadata": {},
   "outputs": [
    {
     "data": {
      "image/png": "[encoded data removed]",
      "text/plain": [
       "<Figure size 432x288 with 1 Axes>"
      ]
     },
     "metadata": {
      "needs_background": "light"
     },
     "output_type": "display_data"
    }
   ],
   "source": [
    "plt.boxplot(np.log((data[\"math score\"])+1))\n",
    "plt.show()\n"
   ]
  },
  {
   "cell_type": "markdown",
   "metadata": {},
   "source": [
    "Burada aykırı değerleri min altını atabiliriz. Ya da winsorize edebiliriz. Ancak yukarıdaki sorular için şimdi bunlara dokunmayacağım."
   ]
  },
  {
   "cell_type": "markdown",
   "metadata": {},
   "source": [
    "Birbiriyle korelasyonu en fazla olan dersler hangisidir?"
   ]
  },
  {
   "cell_type": "code",
   "execution_count": 25,
   "metadata": {
    "scrolled": true
   },
   "outputs": [
    {
     "data": {
      "text/html": [
       "<div>\n",
       "<style scoped>\n",
       "    .dataframe tbody tr th:only-of-type {\n",
       "        vertical-align: middle;\n",
       "    }\n",
       "\n",
       "    .dataframe tbody tr th {\n",
       "        vertical-align: top;\n",
       "    }\n",
       "\n",
       "    .dataframe thead th {\n",
       "        text-align: right;\n",
       "    }\n",
       "</style>\n",
       "<table border=\"1\" class=\"dataframe\">\n",
       "  <thead>\n",
       "    <tr style=\"text-align: right;\">\n",
       "      <th></th>\n",
       "      <th>math score</th>\n",
       "      <th>reading score</th>\n",
       "      <th>writing score</th>\n",
       "      <th>puan_ort</th>\n",
       "    </tr>\n",
       "  </thead>\n",
       "  <tbody>\n",
       "    <tr>\n",
       "      <th>math score</th>\n",
       "      <td>1.000000</td>\n",
       "      <td>0.817580</td>\n",
       "      <td>0.802642</td>\n",
       "      <td>0.918746</td>\n",
       "    </tr>\n",
       "    <tr>\n",
       "      <th>reading score</th>\n",
       "      <td>0.817580</td>\n",
       "      <td>1.000000</td>\n",
       "      <td>0.954598</td>\n",
       "      <td>0.970331</td>\n",
       "    </tr>\n",
       "    <tr>\n",
       "      <th>writing score</th>\n",
       "      <td>0.802642</td>\n",
       "      <td>0.954598</td>\n",
       "      <td>1.000000</td>\n",
       "      <td>0.965667</td>\n",
       "    </tr>\n",
       "    <tr>\n",
       "      <th>puan_ort</th>\n",
       "      <td>0.918746</td>\n",
       "      <td>0.970331</td>\n",
       "      <td>0.965667</td>\n",
       "      <td>1.000000</td>\n",
       "    </tr>\n",
       "  </tbody>\n",
       "</table>\n",
       "</div>"
      ],
      "text/plain": [
       "               math score  reading score  writing score  puan_ort\n",
       "math score       1.000000       0.817580       0.802642  0.918746\n",
       "reading score    0.817580       1.000000       0.954598  0.970331\n",
       "writing score    0.802642       0.954598       1.000000  0.965667\n",
       "puan_ort         0.918746       0.970331       0.965667  1.000000"
      ]
     },
     "execution_count": 25,
     "metadata": {},
     "output_type": "execute_result"
    }
   ],
   "source": [
    "data.corr()"
   ]
  },
  {
   "cell_type": "code",
   "execution_count": 26,
   "metadata": {},
   "outputs": [
    {
     "data": {
      "text/plain": [
       "<AxesSubplot:>"
      ]
     },
     "execution_count": 26,
     "metadata": {},
     "output_type": "execute_result"
    },
    {
     "data": {
      "image/png": "[encoded data removed]",
      "text/plain": [
       "<Figure size 432x288 with 2 Axes>"
      ]
     },
     "metadata": {
      "needs_background": "light"
     },
     "output_type": "display_data"
    }
   ],
   "source": [
    "#reading ve writing arasında ki korelasyon daha fazla.\n",
    "sns.heatmap(data.corr(), square=True, annot=True, linewidths=.5, vmin=0, vmax=1, cmap='viridis')"
   ]
  },
  {
   "cell_type": "markdown",
   "metadata": {},
   "source": [
    "Sınavlardaki performans cinsiyete, kökene ve anne-baba eğitim durumuna göre değişiklik göstermekte midir?\n",
    "\n",
    "Aşağıda bar plotlarda değişiklik göstermekte olduğunu görebiliriz."
   ]
  },
  {
   "cell_type": "code",
   "execution_count": 20,
   "metadata": {},
   "outputs": [],
   "source": [
    "#geneline bakmak için 3 dersin ortalamasını aldık.\n",
    "data[\"puan_ort\"] = (data[\"math score\"] + data[\"reading score\"] + data[\"writing score\"])/3"
   ]
  },
  {
   "cell_type": "code",
   "execution_count": 22,
   "metadata": {},
   "outputs": [
    {
     "data": {
      "text/plain": [
       "<AxesSubplot:xlabel='gender'>"
      ]
     },
     "execution_count": 22,
     "metadata": {},
     "output_type": "execute_result"
    },
    {
     "data": {
      "image/png": "[encoded data removed]",
      "text/plain": [
       "<Figure size 432x288 with 1 Axes>"
      ]
     },
     "metadata": {
      "needs_background": "light"
     },
     "output_type": "display_data"
    }
   ],
   "source": [
    "data.groupby(\"gender\")[\"puan_ort\"].mean().plot(kind=\"bar\")"
   ]
  },
  {
   "cell_type": "code",
   "execution_count": 23,
   "metadata": {},
   "outputs": [
    {
     "data": {
      "text/plain": [
       "<AxesSubplot:xlabel='parental level of education'>"
      ]
     },
     "execution_count": 23,
     "metadata": {},
     "output_type": "execute_result"
    },
    {
     "data": {
      "image/png": "[encoded data removed]",
      "text/plain": [
       "<Figure size 432x288 with 1 Axes>"
      ]
     },
     "metadata": {
      "needs_background": "light"
     },
     "output_type": "display_data"
    }
   ],
   "source": [
    "data.groupby(\"parental level of education\")[\"puan_ort\"].mean().plot(kind=\"bar\")"
   ]
  },
  {
   "cell_type": "code",
   "execution_count": 24,
   "metadata": {},
   "outputs": [
    {
     "data": {
      "text/plain": [
       "<AxesSubplot:xlabel='race/ethnicity'>"
      ]
     },
     "execution_count": 24,
     "metadata": {},
     "output_type": "execute_result"
    },
    {
     "data": {
      "image/png": "[encoded data removed]",
      "text/plain": [
       "<Figure size 432x288 with 1 Axes>"
      ]
     },
     "metadata": {
      "needs_background": "light"
     },
     "output_type": "display_data"
    }
   ],
   "source": [
    "data.groupby(\"race/ethnicity\")[\"puan_ort\"].mean().plot(kind=\"bar\")"
   ]
  },
  {
   "cell_type": "code",
   "execution_count": 34,
   "metadata": {},
   "outputs": [
    {
     "data": {
      "image/png": "[encoded data removed]",
      "text/plain": [
       "<Figure size 1296x360 with 3 Axes>"
      ]
     },
     "metadata": {
      "needs_background": "light"
     },
     "output_type": "display_data"
    }
   ],
   "source": [
    "plt.figure(figsize=(18,5))\n",
    "plt.subplot(1,3,1)\n",
    "data.groupby(\"parental level of education\")[\"math score\"].mean().plot(kind=\"bar\")\n",
    "\n",
    "plt.subplot(1,3,2)\n",
    "data.groupby(\"parental level of education\")[\"reading score\"].mean().plot(kind=\"bar\")\n",
    "\n",
    "plt.subplot(1,3,3)\n",
    "data.groupby(\"parental level of education\")[\"writing score\"].mean().plot(kind=\"bar\")\n",
    "plt.show()\n"
   ]
  },
  {
   "cell_type": "markdown",
   "metadata": {},
   "source": [
    "Masters degree olanların daha iyi olduğu,high_school olanların daha düşük olduğu görülüyor."
   ]
  },
  {
   "cell_type": "markdown",
   "metadata": {},
   "source": [
    "Yukarıdakini t testi ile de resmi olarak yorumlayalım."
   ]
  },
  {
   "cell_type": "code",
   "execution_count": 37,
   "metadata": {},
   "outputs": [
    {
     "name": "stdout",
     "output_type": "stream",
     "text": [
      "math score için karşılaştırma"
     ]
    },
    {
     "data": {
      "text/html": [
       "<div>\n",
       "<style scoped>\n",
       "    .dataframe tbody tr th:only-of-type {\n",
       "        vertical-align: middle;\n",
       "    }\n",
       "\n",
       "    .dataframe tbody tr th {\n",
       "        vertical-align: top;\n",
       "    }\n",
       "\n",
       "    .dataframe thead th {\n",
       "        text-align: right;\n",
       "    }\n",
       "</style>\n",
       "<table border=\"1\" class=\"dataframe\">\n",
       "  <thead>\n",
       "    <tr style=\"text-align: right;\">\n",
       "      <th></th>\n",
       "      <th>grup_1</th>\n",
       "      <th>grup_2</th>\n",
       "      <th>istatistik</th>\n",
       "      <th>p_degeri</th>\n",
       "    </tr>\n",
       "  </thead>\n",
       "  <tbody>\n",
       "    <tr>\n",
       "      <th>0</th>\n",
       "      <td>bachelor's degree</td>\n",
       "      <td>some college</td>\n",
       "      <td>1.370235282961748</td>\n",
       "      <td>0.171512242184716</td>\n",
       "    </tr>\n",
       "    <tr>\n",
       "      <th>1</th>\n",
       "      <td>bachelor's degree</td>\n",
       "      <td>master's degree</td>\n",
       "      <td>-0.148681965688493</td>\n",
       "      <td>0.881975782486770</td>\n",
       "    </tr>\n",
       "    <tr>\n",
       "      <th>2</th>\n",
       "      <td>bachelor's degree</td>\n",
       "      <td>associate's degree</td>\n",
       "      <td>0.878664188979324</td>\n",
       "      <td>0.380207578180362</td>\n",
       "    </tr>\n",
       "    <tr>\n",
       "      <th>3</th>\n",
       "      <td>bachelor's degree</td>\n",
       "      <td>high school</td>\n",
       "      <td>4.236143622484822</td>\n",
       "      <td>0.000029965345854</td>\n",
       "    </tr>\n",
       "    <tr>\n",
       "      <th>4</th>\n",
       "      <td>bachelor's degree</td>\n",
       "      <td>some high school</td>\n",
       "      <td>3.196718602676573</td>\n",
       "      <td>0.001540919292281</td>\n",
       "    </tr>\n",
       "    <tr>\n",
       "      <th>5</th>\n",
       "      <td>some college</td>\n",
       "      <td>master's degree</td>\n",
       "      <td>-1.235633421582457</td>\n",
       "      <td>0.217619568103474</td>\n",
       "    </tr>\n",
       "    <tr>\n",
       "      <th>6</th>\n",
       "      <td>some college</td>\n",
       "      <td>associate's degree</td>\n",
       "      <td>-0.542684269624753</td>\n",
       "      <td>0.587618280923407</td>\n",
       "    </tr>\n",
       "    <tr>\n",
       "      <th>7</th>\n",
       "      <td>some college</td>\n",
       "      <td>high school</td>\n",
       "      <td>3.546107949568116</td>\n",
       "      <td>0.000434980041925</td>\n",
       "    </tr>\n",
       "    <tr>\n",
       "      <th>8</th>\n",
       "      <td>some college</td>\n",
       "      <td>some high school</td>\n",
       "      <td>2.411704623140763</td>\n",
       "      <td>0.016324361572646</td>\n",
       "    </tr>\n",
       "    <tr>\n",
       "      <th>9</th>\n",
       "      <td>master's degree</td>\n",
       "      <td>associate's degree</td>\n",
       "      <td>0.841122968856347</td>\n",
       "      <td>0.400999363612466</td>\n",
       "    </tr>\n",
       "    <tr>\n",
       "      <th>10</th>\n",
       "      <td>master's degree</td>\n",
       "      <td>high school</td>\n",
       "      <td>3.489375932189082</td>\n",
       "      <td>0.000570929230229</td>\n",
       "    </tr>\n",
       "    <tr>\n",
       "      <th>11</th>\n",
       "      <td>master's degree</td>\n",
       "      <td>some high school</td>\n",
       "      <td>2.644257208192553</td>\n",
       "      <td>0.008736228790471</td>\n",
       "    </tr>\n",
       "    <tr>\n",
       "      <th>12</th>\n",
       "      <td>associate's degree</td>\n",
       "      <td>high school</td>\n",
       "      <td>3.948132531826501</td>\n",
       "      <td>0.000092473142750</td>\n",
       "    </tr>\n",
       "    <tr>\n",
       "      <th>13</th>\n",
       "      <td>associate's degree</td>\n",
       "      <td>some high school</td>\n",
       "      <td>2.820053979930256</td>\n",
       "      <td>0.005041081492906</td>\n",
       "    </tr>\n",
       "    <tr>\n",
       "      <th>14</th>\n",
       "      <td>high school</td>\n",
       "      <td>some high school</td>\n",
       "      <td>-0.864062949077255</td>\n",
       "      <td>0.388108610360687</td>\n",
       "    </tr>\n",
       "  </tbody>\n",
       "</table>\n",
       "</div>"
      ],
      "text/plain": [
       "                grup_1              grup_2         istatistik  \\\n",
       "0    bachelor's degree        some college  1.370235282961748   \n",
       "1    bachelor's degree     master's degree -0.148681965688493   \n",
       "2    bachelor's degree  associate's degree  0.878664188979324   \n",
       "3    bachelor's degree         high school  4.236143622484822   \n",
       "4    bachelor's degree    some high school  3.196718602676573   \n",
       "5         some college     master's degree -1.235633421582457   \n",
       "6         some college  associate's degree -0.542684269624753   \n",
       "7         some college         high school  3.546107949568116   \n",
       "8         some college    some high school  2.411704623140763   \n",
       "9      master's degree  associate's degree  0.841122968856347   \n",
       "10     master's degree         high school  3.489375932189082   \n",
       "11     master's degree    some high school  2.644257208192553   \n",
       "12  associate's degree         high school  3.948132531826501   \n",
       "13  associate's degree    some high school  2.820053979930256   \n",
       "14         high school    some high school -0.864062949077255   \n",
       "\n",
       "            p_degeri  \n",
       "0  0.171512242184716  \n",
       "1  0.881975782486770  \n",
       "2  0.380207578180362  \n",
       "3  0.000029965345854  \n",
       "4  0.001540919292281  \n",
       "5  0.217619568103474  \n",
       "6  0.587618280923407  \n",
       "7  0.000434980041925  \n",
       "8  0.016324361572646  \n",
       "9  0.400999363612466  \n",
       "10 0.000570929230229  \n",
       "11 0.008736228790471  \n",
       "12 0.000092473142750  \n",
       "13 0.005041081492906  \n",
       "14 0.388108610360687  "
      ]
     },
     "metadata": {},
     "output_type": "display_data"
    },
    {
     "name": "stdout",
     "output_type": "stream",
     "text": [
      "reading score için karşılaştırma"
     ]
    },
    {
     "data": {
      "text/html": [
       "<div>\n",
       "<style scoped>\n",
       "    .dataframe tbody tr th:only-of-type {\n",
       "        vertical-align: middle;\n",
       "    }\n",
       "\n",
       "    .dataframe tbody tr th {\n",
       "        vertical-align: top;\n",
       "    }\n",
       "\n",
       "    .dataframe thead th {\n",
       "        text-align: right;\n",
       "    }\n",
       "</style>\n",
       "<table border=\"1\" class=\"dataframe\">\n",
       "  <thead>\n",
       "    <tr style=\"text-align: right;\">\n",
       "      <th></th>\n",
       "      <th>grup_1</th>\n",
       "      <th>grup_2</th>\n",
       "      <th>istatistik</th>\n",
       "      <th>p_degeri</th>\n",
       "    </tr>\n",
       "  </thead>\n",
       "  <tbody>\n",
       "    <tr>\n",
       "      <th>0</th>\n",
       "      <td>bachelor's degree</td>\n",
       "      <td>some college</td>\n",
       "      <td>2.204882120908508</td>\n",
       "      <td>0.028127555314401</td>\n",
       "    </tr>\n",
       "    <tr>\n",
       "      <th>1</th>\n",
       "      <td>bachelor's degree</td>\n",
       "      <td>master's degree</td>\n",
       "      <td>-1.054085894947598</td>\n",
       "      <td>0.293296751317879</td>\n",
       "    </tr>\n",
       "    <tr>\n",
       "      <th>2</th>\n",
       "      <td>bachelor's degree</td>\n",
       "      <td>associate's degree</td>\n",
       "      <td>1.297796985045283</td>\n",
       "      <td>0.195242064830911</td>\n",
       "    </tr>\n",
       "    <tr>\n",
       "      <th>3</th>\n",
       "      <td>bachelor's degree</td>\n",
       "      <td>high school</td>\n",
       "      <td>5.017577900835298</td>\n",
       "      <td>0.000000880425031</td>\n",
       "    </tr>\n",
       "    <tr>\n",
       "      <th>4</th>\n",
       "      <td>bachelor's degree</td>\n",
       "      <td>some high school</td>\n",
       "      <td>3.403927067379874</td>\n",
       "      <td>0.000756197171973</td>\n",
       "    </tr>\n",
       "    <tr>\n",
       "      <th>5</th>\n",
       "      <td>some college</td>\n",
       "      <td>master's degree</td>\n",
       "      <td>-2.888843374950649</td>\n",
       "      <td>0.004165440800640</td>\n",
       "    </tr>\n",
       "    <tr>\n",
       "      <th>6</th>\n",
       "      <td>some college</td>\n",
       "      <td>associate's degree</td>\n",
       "      <td>-1.112318821691490</td>\n",
       "      <td>0.266600285399801</td>\n",
       "    </tr>\n",
       "    <tr>\n",
       "      <th>7</th>\n",
       "      <td>some college</td>\n",
       "      <td>high school</td>\n",
       "      <td>3.457842768362033</td>\n",
       "      <td>0.000600104848125</td>\n",
       "    </tr>\n",
       "    <tr>\n",
       "      <th>8</th>\n",
       "      <td>some college</td>\n",
       "      <td>some high school</td>\n",
       "      <td>1.714161972758909</td>\n",
       "      <td>0.087267868562439</td>\n",
       "    </tr>\n",
       "    <tr>\n",
       "      <th>9</th>\n",
       "      <td>master's degree</td>\n",
       "      <td>associate's degree</td>\n",
       "      <td>2.191201575983869</td>\n",
       "      <td>0.029264145709722</td>\n",
       "    </tr>\n",
       "    <tr>\n",
       "      <th>10</th>\n",
       "      <td>master's degree</td>\n",
       "      <td>high school</td>\n",
       "      <td>5.113158728723479</td>\n",
       "      <td>0.000000625755812</td>\n",
       "    </tr>\n",
       "    <tr>\n",
       "      <th>11</th>\n",
       "      <td>master's degree</td>\n",
       "      <td>some high school</td>\n",
       "      <td>3.726157412223151</td>\n",
       "      <td>0.000243345526172</td>\n",
       "    </tr>\n",
       "    <tr>\n",
       "      <th>12</th>\n",
       "      <td>associate's degree</td>\n",
       "      <td>high school</td>\n",
       "      <td>4.538021419898998</td>\n",
       "      <td>0.000007442167797</td>\n",
       "    </tr>\n",
       "    <tr>\n",
       "      <th>13</th>\n",
       "      <td>associate's degree</td>\n",
       "      <td>some high school</td>\n",
       "      <td>2.718360220403793</td>\n",
       "      <td>0.006846770119678</td>\n",
       "    </tr>\n",
       "    <tr>\n",
       "      <th>14</th>\n",
       "      <td>high school</td>\n",
       "      <td>some high school</td>\n",
       "      <td>-1.461284757591555</td>\n",
       "      <td>0.144779195524827</td>\n",
       "    </tr>\n",
       "  </tbody>\n",
       "</table>\n",
       "</div>"
      ],
      "text/plain": [
       "                grup_1              grup_2         istatistik  \\\n",
       "0    bachelor's degree        some college  2.204882120908508   \n",
       "1    bachelor's degree     master's degree -1.054085894947598   \n",
       "2    bachelor's degree  associate's degree  1.297796985045283   \n",
       "3    bachelor's degree         high school  5.017577900835298   \n",
       "4    bachelor's degree    some high school  3.403927067379874   \n",
       "5         some college     master's degree -2.888843374950649   \n",
       "6         some college  associate's degree -1.112318821691490   \n",
       "7         some college         high school  3.457842768362033   \n",
       "8         some college    some high school  1.714161972758909   \n",
       "9      master's degree  associate's degree  2.191201575983869   \n",
       "10     master's degree         high school  5.113158728723479   \n",
       "11     master's degree    some high school  3.726157412223151   \n",
       "12  associate's degree         high school  4.538021419898998   \n",
       "13  associate's degree    some high school  2.718360220403793   \n",
       "14         high school    some high school -1.461284757591555   \n",
       "\n",
       "            p_degeri  \n",
       "0  0.028127555314401  \n",
       "1  0.293296751317879  \n",
       "2  0.195242064830911  \n",
       "3  0.000000880425031  \n",
       "4  0.000756197171973  \n",
       "5  0.004165440800640  \n",
       "6  0.266600285399801  \n",
       "7  0.000600104848125  \n",
       "8  0.087267868562439  \n",
       "9  0.029264145709722  \n",
       "10 0.000000625755812  \n",
       "11 0.000243345526172  \n",
       "12 0.000007442167797  \n",
       "13 0.006846770119678  \n",
       "14 0.144779195524827  "
      ]
     },
     "metadata": {},
     "output_type": "display_data"
    },
    {
     "name": "stdout",
     "output_type": "stream",
     "text": [
      "writing score için karşılaştırma"
     ]
    },
    {
     "data": {
      "text/html": [
       "<div>\n",
       "<style scoped>\n",
       "    .dataframe tbody tr th:only-of-type {\n",
       "        vertical-align: middle;\n",
       "    }\n",
       "\n",
       "    .dataframe tbody tr th {\n",
       "        vertical-align: top;\n",
       "    }\n",
       "\n",
       "    .dataframe thead th {\n",
       "        text-align: right;\n",
       "    }\n",
       "</style>\n",
       "<table border=\"1\" class=\"dataframe\">\n",
       "  <thead>\n",
       "    <tr style=\"text-align: right;\">\n",
       "      <th></th>\n",
       "      <th>grup_1</th>\n",
       "      <th>grup_2</th>\n",
       "      <th>istatistik</th>\n",
       "      <th>p_degeri</th>\n",
       "    </tr>\n",
       "  </thead>\n",
       "  <tbody>\n",
       "    <tr>\n",
       "      <th>0</th>\n",
       "      <td>bachelor's degree</td>\n",
       "      <td>some college</td>\n",
       "      <td>2.680331468463220</td>\n",
       "      <td>0.007711012023673</td>\n",
       "    </tr>\n",
       "    <tr>\n",
       "      <th>1</th>\n",
       "      <td>bachelor's degree</td>\n",
       "      <td>master's degree</td>\n",
       "      <td>-0.999874130680484</td>\n",
       "      <td>0.318751964146466</td>\n",
       "    </tr>\n",
       "    <tr>\n",
       "      <th>2</th>\n",
       "      <td>bachelor's degree</td>\n",
       "      <td>associate's degree</td>\n",
       "      <td>2.115929663913376</td>\n",
       "      <td>0.035081624517197</td>\n",
       "    </tr>\n",
       "    <tr>\n",
       "      <th>3</th>\n",
       "      <td>bachelor's degree</td>\n",
       "      <td>high school</td>\n",
       "      <td>6.547380937127048</td>\n",
       "      <td>0.000000000240763</td>\n",
       "    </tr>\n",
       "    <tr>\n",
       "      <th>4</th>\n",
       "      <td>bachelor's degree</td>\n",
       "      <td>some high school</td>\n",
       "      <td>4.667733097498242</td>\n",
       "      <td>0.000004628198527</td>\n",
       "    </tr>\n",
       "    <tr>\n",
       "      <th>5</th>\n",
       "      <td>some college</td>\n",
       "      <td>master's degree</td>\n",
       "      <td>-3.168769063239491</td>\n",
       "      <td>0.001698593313596</td>\n",
       "    </tr>\n",
       "    <tr>\n",
       "      <th>6</th>\n",
       "      <td>some college</td>\n",
       "      <td>associate's degree</td>\n",
       "      <td>-0.761596864395391</td>\n",
       "      <td>0.446703166030366</td>\n",
       "    </tr>\n",
       "    <tr>\n",
       "      <th>7</th>\n",
       "      <td>some college</td>\n",
       "      <td>high school</td>\n",
       "      <td>4.488520877492127</td>\n",
       "      <td>0.000009275017803</td>\n",
       "    </tr>\n",
       "    <tr>\n",
       "      <th>8</th>\n",
       "      <td>some college</td>\n",
       "      <td>some high school</td>\n",
       "      <td>2.575721140379242</td>\n",
       "      <td>0.010358529086081</td>\n",
       "    </tr>\n",
       "    <tr>\n",
       "      <th>9</th>\n",
       "      <td>master's degree</td>\n",
       "      <td>associate's degree</td>\n",
       "      <td>2.781241549068550</td>\n",
       "      <td>0.005784032705258</td>\n",
       "    </tr>\n",
       "    <tr>\n",
       "      <th>10</th>\n",
       "      <td>master's degree</td>\n",
       "      <td>high school</td>\n",
       "      <td>6.360904883721531</td>\n",
       "      <td>0.000000000932693</td>\n",
       "    </tr>\n",
       "    <tr>\n",
       "      <th>11</th>\n",
       "      <td>master's degree</td>\n",
       "      <td>some high school</td>\n",
       "      <td>4.707583817143559</td>\n",
       "      <td>0.000004275465153</td>\n",
       "    </tr>\n",
       "    <tr>\n",
       "      <th>12</th>\n",
       "      <td>associate's degree</td>\n",
       "      <td>high school</td>\n",
       "      <td>5.348725635626432</td>\n",
       "      <td>0.000000146505455</td>\n",
       "    </tr>\n",
       "    <tr>\n",
       "      <th>13</th>\n",
       "      <td>associate's degree</td>\n",
       "      <td>some high school</td>\n",
       "      <td>3.331722345347572</td>\n",
       "      <td>0.000943599025880</td>\n",
       "    </tr>\n",
       "    <tr>\n",
       "      <th>14</th>\n",
       "      <td>high school</td>\n",
       "      <td>some high school</td>\n",
       "      <td>-1.583888527307647</td>\n",
       "      <td>0.114066539329633</td>\n",
       "    </tr>\n",
       "  </tbody>\n",
       "</table>\n",
       "</div>"
      ],
      "text/plain": [
       "                grup_1              grup_2         istatistik  \\\n",
       "0    bachelor's degree        some college  2.680331468463220   \n",
       "1    bachelor's degree     master's degree -0.999874130680484   \n",
       "2    bachelor's degree  associate's degree  2.115929663913376   \n",
       "3    bachelor's degree         high school  6.547380937127048   \n",
       "4    bachelor's degree    some high school  4.667733097498242   \n",
       "5         some college     master's degree -3.168769063239491   \n",
       "6         some college  associate's degree -0.761596864395391   \n",
       "7         some college         high school  4.488520877492127   \n",
       "8         some college    some high school  2.575721140379242   \n",
       "9      master's degree  associate's degree  2.781241549068550   \n",
       "10     master's degree         high school  6.360904883721531   \n",
       "11     master's degree    some high school  4.707583817143559   \n",
       "12  associate's degree         high school  5.348725635626432   \n",
       "13  associate's degree    some high school  3.331722345347572   \n",
       "14         high school    some high school -1.583888527307647   \n",
       "\n",
       "            p_degeri  \n",
       "0  0.007711012023673  \n",
       "1  0.318751964146466  \n",
       "2  0.035081624517197  \n",
       "3  0.000000000240763  \n",
       "4  0.000004628198527  \n",
       "5  0.001698593313596  \n",
       "6  0.446703166030366  \n",
       "7  0.000009275017803  \n",
       "8  0.010358529086081  \n",
       "9  0.005784032705258  \n",
       "10 0.000000000932693  \n",
       "11 0.000004275465153  \n",
       "12 0.000000146505455  \n",
       "13 0.000943599025880  \n",
       "14 0.114066539329633  "
      ]
     },
     "metadata": {},
     "output_type": "display_data"
    }
   ],
   "source": [
    "# Test whether group differences are significant.\n",
    "dereceler = data[\"parental level of education\"].unique()\n",
    "\n",
    "pd.options.display.float_format = '{:.15f}'.format\n",
    "for var in [\"math score\", \"reading score\", \"writing score\"]:\n",
    "    karsilastirma = pd.DataFrame(columns=['grup_1', 'grup_2','istatistik', 'p_degeri'])\n",
    "    print(\"{} için karşılaştırma\".format(var),end='')\n",
    "    for i in range(0, len(dereceler)):\n",
    "        for j in range(i+1, len(dereceler)):\n",
    "            ttest = stats.ttest_ind(data[data[\"parental level of education\"]==dereceler[i]][var], \n",
    "                                data[data[\"parental level of education\"]==dereceler[j]][var])\n",
    "            grup_1 = dereceler[i]\n",
    "            grup_2 = dereceler[j]\n",
    "            istatistik = ttest[0]\n",
    "            p_degeri = ttest[1]\n",
    "            \n",
    "            karsilastirma = karsilastirma.append({\"grup_1\" : grup_1 ,\n",
    "                                                  \"grup_2\" : grup_2 ,\n",
    "                                                  \"istatistik\": istatistik , \n",
    "                                                  \"p_degeri\" : p_degeri}, ignore_index=True)\n",
    "    display(karsilastirma)"
   ]
  },
  {
   "cell_type": "code",
   "execution_count": 35,
   "metadata": {},
   "outputs": [
    {
     "data": {
      "image/png": "[encoded data removed]",
      "text/plain": [
       "<Figure size 1296x360 with 3 Axes>"
      ]
     },
     "metadata": {
      "needs_background": "light"
     },
     "output_type": "display_data"
    }
   ],
   "source": [
    "plt.figure(figsize=(18,5))\n",
    "plt.subplot(1,3,1)\n",
    "data.groupby(\"gender\")[\"math score\"].mean().plot(kind=\"bar\")\n",
    "\n",
    "plt.subplot(1,3,2)\n",
    "data.groupby(\"gender\")[\"reading score\"].mean().plot(kind=\"bar\")\n",
    "\n",
    "plt.subplot(1,3,3)\n",
    "data.groupby(\"gender\")[\"writing score\"].mean().plot(kind=\"bar\")\n",
    "plt.show()\n",
    "\n",
    "#Cinsiyete göre farklılık gösteriyor diyemem birinde erkekler daha iyiyken diğerlerinde kızlar."
   ]
  },
  {
   "cell_type": "markdown",
   "metadata": {},
   "source": [
    "Öğle yemek tipinin sınav performansları ile bir ilişkisi var mı? Varsa bunu nasıl açıklayabilirsiniz?"
   ]
  },
  {
   "cell_type": "code",
   "execution_count": 29,
   "metadata": {},
   "outputs": [
    {
     "data": {
      "image/png": "[encoded data removed]",
      "text/plain": [
       "<Figure size 1296x360 with 3 Axes>"
      ]
     },
     "metadata": {
      "needs_background": "light"
     },
     "output_type": "display_data"
    }
   ],
   "source": [
    "plt.figure(figsize=(18,5))\n",
    "plt.subplot(1,3,1)\n",
    "data.groupby(\"lunch\")[\"math score\"].mean().plot(kind=\"bar\")\n",
    "\n",
    "plt.subplot(1,3,2)\n",
    "data.groupby(\"lunch\")[\"reading score\"].mean().plot(kind=\"bar\")\n",
    "\n",
    "plt.subplot(1,3,3)\n",
    "data.groupby(\"lunch\")[\"writing score\"].mean().plot(kind=\"bar\")\n",
    "plt.show()"
   ]
  },
  {
   "cell_type": "markdown",
   "metadata": {},
   "source": [
    "Standart yemek yiyen öğrencilerin başarısı daha yüksek görünüyor bunu istatiksel t veya anova testi ile de resmileştirebiliriz."
   ]
  },
  {
   "cell_type": "markdown",
   "metadata": {},
   "source": [
    "Hazırlık kurslarının sonav performansı üzerinde bir etkisi var mı?"
   ]
  },
  {
   "cell_type": "code",
   "execution_count": 31,
   "metadata": {},
   "outputs": [
    {
     "data": {
      "image/png": "[encoded data removed]",
      "text/plain": [
       "<Figure size 1296x360 with 3 Axes>"
      ]
     },
     "metadata": {
      "needs_background": "light"
     },
     "output_type": "display_data"
    }
   ],
   "source": [
    "plt.figure(figsize=(18,5))\n",
    "plt.subplot(1,3,1)\n",
    "data.groupby(\"test preparation course\")[\"math score\"].mean().plot(kind=\"bar\")\n",
    "\n",
    "plt.subplot(1,3,2)\n",
    "data.groupby(\"test preparation course\")[\"reading score\"].mean().plot(kind=\"bar\")\n",
    "\n",
    "plt.subplot(1,3,3)\n",
    "data.groupby(\"test preparation course\")[\"writing score\"].mean().plot(kind=\"bar\")\n",
    "plt.show()"
   ]
  },
  {
   "cell_type": "markdown",
   "metadata": {},
   "source": [
    "Aynı şekilde hazırlık kursu alanların notlarının daha yüksek olduğu görülür."
   ]
  }
 ],
 "metadata": {
  "kernelspec": {
   "display_name": "Python 3",
   "language": "python",
   "name": "python3"
  },
  "language_info": {
   "codemirror_mode": {
    "name": "ipython",
    "version": 3
   },
   "file_extension": ".py",
   "mimetype": "text/x-python",
   "name": "python",
   "nbconvert_exporter": "python",
   "pygments_lexer": "ipython3",
   "version": "3.8.5"
  }
 },
 "nbformat": 4,
 "nbformat_minor": 4
}
