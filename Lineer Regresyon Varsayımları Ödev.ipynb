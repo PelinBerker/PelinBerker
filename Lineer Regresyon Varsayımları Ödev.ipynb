{
 "cells": [
  {
   "cell_type": "code",
   "execution_count": 8,
   "metadata": {},
   "outputs": [],
   "source": [
    "import numpy as np\n",
    "import pandas as pd\n",
    "import seaborn as sns\n",
    "import pandas as pd\n",
    "from sklearn import linear_model\n",
    "import matplotlib.pyplot as plt\n",
    "from sklearn.model_selection import train_test_split\n",
    "from sklearn.linear_model import LinearRegression\n",
    "from sklearn.model_selection import train_test_split\n",
    "from sklearn.metrics import mean_absolute_error\n",
    "import statsmodels.api as sm\n",
    "from statsmodels.tools.eval_measures import mse, rmse\n",
    "\n",
    "import warnings\n",
    "warnings.filterwarnings('ignore')"
   ]
  },
  {
   "cell_type": "code",
   "execution_count": 7,
   "metadata": {},
   "outputs": [
    {
     "data": {
      "text/html": [
       "<div>\n",
       "<style scoped>\n",
       "    .dataframe tbody tr th:only-of-type {\n",
       "        vertical-align: middle;\n",
       "    }\n",
       "\n",
       "    .dataframe tbody tr th {\n",
       "        vertical-align: top;\n",
       "    }\n",
       "\n",
       "    .dataframe thead th {\n",
       "        text-align: right;\n",
       "    }\n",
       "</style>\n",
       "<table border=\"1\" class=\"dataframe\">\n",
       "  <thead>\n",
       "    <tr style=\"text-align: right;\">\n",
       "      <th></th>\n",
       "      <th>Formatted Date</th>\n",
       "      <th>Summary</th>\n",
       "      <th>Precip Type</th>\n",
       "      <th>Temperature (C)</th>\n",
       "      <th>Apparent Temperature (C)</th>\n",
       "      <th>Humidity</th>\n",
       "      <th>Wind Speed (km/h)</th>\n",
       "      <th>Wind Bearing (degrees)</th>\n",
       "      <th>Visibility (km)</th>\n",
       "      <th>Loud Cover</th>\n",
       "      <th>Pressure (millibars)</th>\n",
       "      <th>Daily Summary</th>\n",
       "    </tr>\n",
       "  </thead>\n",
       "  <tbody>\n",
       "    <tr>\n",
       "      <th>0</th>\n",
       "      <td>2006-04-01 00:00:00.000 +0200</td>\n",
       "      <td>Partly Cloudy</td>\n",
       "      <td>rain</td>\n",
       "      <td>9.472222</td>\n",
       "      <td>7.388889</td>\n",
       "      <td>0.89</td>\n",
       "      <td>14.1197</td>\n",
       "      <td>251.0</td>\n",
       "      <td>15.8263</td>\n",
       "      <td>0.0</td>\n",
       "      <td>1015.13</td>\n",
       "      <td>Partly cloudy throughout the day.</td>\n",
       "    </tr>\n",
       "    <tr>\n",
       "      <th>1</th>\n",
       "      <td>2006-04-01 01:00:00.000 +0200</td>\n",
       "      <td>Partly Cloudy</td>\n",
       "      <td>rain</td>\n",
       "      <td>9.355556</td>\n",
       "      <td>7.227778</td>\n",
       "      <td>0.86</td>\n",
       "      <td>14.2646</td>\n",
       "      <td>259.0</td>\n",
       "      <td>15.8263</td>\n",
       "      <td>0.0</td>\n",
       "      <td>1015.63</td>\n",
       "      <td>Partly cloudy throughout the day.</td>\n",
       "    </tr>\n",
       "    <tr>\n",
       "      <th>2</th>\n",
       "      <td>2006-04-01 02:00:00.000 +0200</td>\n",
       "      <td>Mostly Cloudy</td>\n",
       "      <td>rain</td>\n",
       "      <td>9.377778</td>\n",
       "      <td>9.377778</td>\n",
       "      <td>0.89</td>\n",
       "      <td>3.9284</td>\n",
       "      <td>204.0</td>\n",
       "      <td>14.9569</td>\n",
       "      <td>0.0</td>\n",
       "      <td>1015.94</td>\n",
       "      <td>Partly cloudy throughout the day.</td>\n",
       "    </tr>\n",
       "    <tr>\n",
       "      <th>3</th>\n",
       "      <td>2006-04-01 03:00:00.000 +0200</td>\n",
       "      <td>Partly Cloudy</td>\n",
       "      <td>rain</td>\n",
       "      <td>8.288889</td>\n",
       "      <td>5.944444</td>\n",
       "      <td>0.83</td>\n",
       "      <td>14.1036</td>\n",
       "      <td>269.0</td>\n",
       "      <td>15.8263</td>\n",
       "      <td>0.0</td>\n",
       "      <td>1016.41</td>\n",
       "      <td>Partly cloudy throughout the day.</td>\n",
       "    </tr>\n",
       "    <tr>\n",
       "      <th>4</th>\n",
       "      <td>2006-04-01 04:00:00.000 +0200</td>\n",
       "      <td>Mostly Cloudy</td>\n",
       "      <td>rain</td>\n",
       "      <td>8.755556</td>\n",
       "      <td>6.977778</td>\n",
       "      <td>0.83</td>\n",
       "      <td>11.0446</td>\n",
       "      <td>259.0</td>\n",
       "      <td>15.8263</td>\n",
       "      <td>0.0</td>\n",
       "      <td>1016.51</td>\n",
       "      <td>Partly cloudy throughout the day.</td>\n",
       "    </tr>\n",
       "  </tbody>\n",
       "</table>\n",
       "</div>"
      ],
      "text/plain": [
       "                  Formatted Date        Summary Precip Type  Temperature (C)  \\\n",
       "0  2006-04-01 00:00:00.000 +0200  Partly Cloudy        rain         9.472222   \n",
       "1  2006-04-01 01:00:00.000 +0200  Partly Cloudy        rain         9.355556   \n",
       "2  2006-04-01 02:00:00.000 +0200  Mostly Cloudy        rain         9.377778   \n",
       "3  2006-04-01 03:00:00.000 +0200  Partly Cloudy        rain         8.288889   \n",
       "4  2006-04-01 04:00:00.000 +0200  Mostly Cloudy        rain         8.755556   \n",
       "\n",
       "   Apparent Temperature (C)  Humidity  Wind Speed (km/h)  \\\n",
       "0                  7.388889      0.89            14.1197   \n",
       "1                  7.227778      0.86            14.2646   \n",
       "2                  9.377778      0.89             3.9284   \n",
       "3                  5.944444      0.83            14.1036   \n",
       "4                  6.977778      0.83            11.0446   \n",
       "\n",
       "   Wind Bearing (degrees)  Visibility (km)  Loud Cover  Pressure (millibars)  \\\n",
       "0                   251.0          15.8263         0.0               1015.13   \n",
       "1                   259.0          15.8263         0.0               1015.63   \n",
       "2                   204.0          14.9569         0.0               1015.94   \n",
       "3                   269.0          15.8263         0.0               1016.41   \n",
       "4                   259.0          15.8263         0.0               1016.51   \n",
       "\n",
       "                       Daily Summary  \n",
       "0  Partly cloudy throughout the day.  \n",
       "1  Partly cloudy throughout the day.  \n",
       "2  Partly cloudy throughout the day.  \n",
       "3  Partly cloudy throughout the day.  \n",
       "4  Partly cloudy throughout the day.  "
      ]
     },
     "execution_count": 7,
     "metadata": {},
     "output_type": "execute_result"
    }
   ],
   "source": [
    "weather_df = pd.read_csv(\"https://djl-lms-assets.s3.eu-central-1.amazonaws.com/datasets/weatherHistory.csv\")\n",
    "weather_df.head()"
   ]
  },
  {
   "cell_type": "markdown",
   "metadata": {},
   "source": [
    "Hedef değişkenin sıcaklık olduğu bir regresyon modeli oluşturun. Açıklayıcı değişkenler olarak nem, rüzgar hızı, rüzgar ve basınç kullanın. OLS kullanarak modeli tahmin edin."
   ]
  },
  {
   "cell_type": "code",
   "execution_count": 9,
   "metadata": {},
   "outputs": [],
   "source": [
    "y=weather_df[\"Temperature (C)\"]"
   ]
  },
  {
   "cell_type": "code",
   "execution_count": 10,
   "metadata": {},
   "outputs": [],
   "source": [
    "x=weather_df[[\"Humidity\",\"Wind Speed (km/h)\",\"Wind Bearing (degrees)\",\"Pressure (millibars)\"]]"
   ]
  },
  {
   "cell_type": "code",
   "execution_count": 11,
   "metadata": {},
   "outputs": [
    {
     "name": "stdout",
     "output_type": "stream",
     "text": [
      "<class 'pandas.core.frame.DataFrame'>\n",
      "RangeIndex: 96453 entries, 0 to 96452\n",
      "Data columns (total 4 columns):\n",
      " #   Column                  Non-Null Count  Dtype  \n",
      "---  ------                  --------------  -----  \n",
      " 0   Humidity                96453 non-null  float64\n",
      " 1   Wind Speed (km/h)       96453 non-null  float64\n",
      " 2   Wind Bearing (degrees)  96453 non-null  float64\n",
      " 3   Pressure (millibars)    96453 non-null  float64\n",
      "dtypes: float64(4)\n",
      "memory usage: 2.9 MB\n"
     ]
    }
   ],
   "source": [
    "x.info()"
   ]
  },
  {
   "cell_type": "code",
   "execution_count": 12,
   "metadata": {},
   "outputs": [
    {
     "name": "stdout",
     "output_type": "stream",
     "text": [
      "R^2 is: \n",
      " 0.4205778630374368\n"
     ]
    }
   ],
   "source": [
    "lr = linear_model.LinearRegression()\n",
    "model = lr.fit(x, y)\n",
    "print(\"R^2 is: \\n\", model.score(x, y))"
   ]
  },
  {
   "cell_type": "code",
   "execution_count": 13,
   "metadata": {},
   "outputs": [
    {
     "data": {
      "text/html": [
       "<table class=\"simpletable\">\n",
       "<caption>OLS Regression Results</caption>\n",
       "<tr>\n",
       "  <th>Dep. Variable:</th>     <td>Temperature (C)</td> <th>  R-squared:         </th>  <td>   0.421</td>  \n",
       "</tr>\n",
       "<tr>\n",
       "  <th>Model:</th>                   <td>OLS</td>       <th>  Adj. R-squared:    </th>  <td>   0.421</td>  \n",
       "</tr>\n",
       "<tr>\n",
       "  <th>Method:</th>             <td>Least Squares</td>  <th>  F-statistic:       </th>  <td>1.750e+04</td> \n",
       "</tr>\n",
       "<tr>\n",
       "  <th>Date:</th>             <td>Sat, 17 Apr 2021</td> <th>  Prob (F-statistic):</th>   <td>  0.00</td>   \n",
       "</tr>\n",
       "<tr>\n",
       "  <th>Time:</th>                 <td>21:14:17</td>     <th>  Log-Likelihood:    </th> <td>-3.2821e+05</td>\n",
       "</tr>\n",
       "<tr>\n",
       "  <th>No. Observations:</th>      <td> 96453</td>      <th>  AIC:               </th>  <td>6.564e+05</td> \n",
       "</tr>\n",
       "<tr>\n",
       "  <th>Df Residuals:</th>          <td> 96448</td>      <th>  BIC:               </th>  <td>6.565e+05</td> \n",
       "</tr>\n",
       "<tr>\n",
       "  <th>Df Model:</th>              <td>     4</td>      <th>                     </th>      <td> </td>     \n",
       "</tr>\n",
       "<tr>\n",
       "  <th>Covariance Type:</th>      <td>nonrobust</td>    <th>                     </th>      <td> </td>     \n",
       "</tr>\n",
       "</table>\n",
       "<table class=\"simpletable\">\n",
       "<tr>\n",
       "             <td></td>               <th>coef</th>     <th>std err</th>      <th>t</th>      <th>P>|t|</th>  <th>[0.025</th>    <th>0.975]</th>  \n",
       "</tr>\n",
       "<tr>\n",
       "  <th>const</th>                  <td>   37.9264</td> <td>    0.233</td> <td>  162.709</td> <td> 0.000</td> <td>   37.470</td> <td>   38.383</td>\n",
       "</tr>\n",
       "<tr>\n",
       "  <th>Humidity</th>               <td>  -32.4962</td> <td>    0.123</td> <td> -264.288</td> <td> 0.000</td> <td>  -32.737</td> <td>  -32.255</td>\n",
       "</tr>\n",
       "<tr>\n",
       "  <th>Wind Speed (km/h)</th>      <td>   -0.2014</td> <td>    0.003</td> <td>  -57.557</td> <td> 0.000</td> <td>   -0.208</td> <td>   -0.195</td>\n",
       "</tr>\n",
       "<tr>\n",
       "  <th>Wind Bearing (degrees)</th> <td>    0.0040</td> <td>    0.000</td> <td>   18.463</td> <td> 0.000</td> <td>    0.004</td> <td>    0.004</td>\n",
       "</tr>\n",
       "<tr>\n",
       "  <th>Pressure (millibars)</th>   <td>   -0.0007</td> <td>    0.000</td> <td>   -3.452</td> <td> 0.001</td> <td>   -0.001</td> <td>   -0.000</td>\n",
       "</tr>\n",
       "</table>\n",
       "<table class=\"simpletable\">\n",
       "<tr>\n",
       "  <th>Omnibus:</th>       <td>3375.432</td> <th>  Durbin-Watson:     </th> <td>   0.057</td>\n",
       "</tr>\n",
       "<tr>\n",
       "  <th>Prob(Omnibus):</th>  <td> 0.000</td>  <th>  Jarque-Bera (JB):  </th> <td>3793.297</td>\n",
       "</tr>\n",
       "<tr>\n",
       "  <th>Skew:</th>           <td>-0.455</td>  <th>  Prob(JB):          </th> <td>    0.00</td>\n",
       "</tr>\n",
       "<tr>\n",
       "  <th>Kurtosis:</th>       <td> 3.339</td>  <th>  Cond. No.          </th> <td>1.06e+04</td>\n",
       "</tr>\n",
       "</table><br/><br/>Notes:<br/>[1] Standard Errors assume that the covariance matrix of the errors is correctly specified.<br/>[2] The condition number is large, 1.06e+04. This might indicate that there are<br/>strong multicollinearity or other numerical problems."
      ],
      "text/plain": [
       "<class 'statsmodels.iolib.summary.Summary'>\n",
       "\"\"\"\n",
       "                            OLS Regression Results                            \n",
       "==============================================================================\n",
       "Dep. Variable:        Temperature (C)   R-squared:                       0.421\n",
       "Model:                            OLS   Adj. R-squared:                  0.421\n",
       "Method:                 Least Squares   F-statistic:                 1.750e+04\n",
       "Date:                Sat, 17 Apr 2021   Prob (F-statistic):               0.00\n",
       "Time:                        21:14:17   Log-Likelihood:            -3.2821e+05\n",
       "No. Observations:               96453   AIC:                         6.564e+05\n",
       "Df Residuals:                   96448   BIC:                         6.565e+05\n",
       "Df Model:                           4                                         \n",
       "Covariance Type:            nonrobust                                         \n",
       "==========================================================================================\n",
       "                             coef    std err          t      P>|t|      [0.025      0.975]\n",
       "------------------------------------------------------------------------------------------\n",
       "const                     37.9264      0.233    162.709      0.000      37.470      38.383\n",
       "Humidity                 -32.4962      0.123   -264.288      0.000     -32.737     -32.255\n",
       "Wind Speed (km/h)         -0.2014      0.003    -57.557      0.000      -0.208      -0.195\n",
       "Wind Bearing (degrees)     0.0040      0.000     18.463      0.000       0.004       0.004\n",
       "Pressure (millibars)      -0.0007      0.000     -3.452      0.001      -0.001      -0.000\n",
       "==============================================================================\n",
       "Omnibus:                     3375.432   Durbin-Watson:                   0.057\n",
       "Prob(Omnibus):                  0.000   Jarque-Bera (JB):             3793.297\n",
       "Skew:                          -0.455   Prob(JB):                         0.00\n",
       "Kurtosis:                       3.339   Cond. No.                     1.06e+04\n",
       "==============================================================================\n",
       "\n",
       "Notes:\n",
       "[1] Standard Errors assume that the covariance matrix of the errors is correctly specified.\n",
       "[2] The condition number is large, 1.06e+04. This might indicate that there are\n",
       "strong multicollinearity or other numerical problems.\n",
       "\"\"\""
      ]
     },
     "execution_count": 13,
     "metadata": {},
     "output_type": "execute_result"
    }
   ],
   "source": [
    "import statsmodels.api as sm\n",
    "x = sm.add_constant(x)\n",
    "results = sm.OLS(y, x).fit()\n",
    "results.summary()"
   ]
  },
  {
   "cell_type": "markdown",
   "metadata": {},
   "source": [
    "Şimdi, modelinizin yukarıdaki Gauss-Markov Koşullarını karşılayıp karşılamadığını kontrol edin. Eğer bazı varsayımlar karşılanmazsa, modelinizin doğruluğu için ihlallerin etkilerini tartışın."
   ]
  },
  {
   "cell_type": "markdown",
   "metadata": {},
   "source": [
    "Katsayılarda modelin doğrusallığı"
   ]
  },
  {
   "cell_type": "markdown",
   "metadata": {},
   "source": [
    "Hata terimi ortalamada sıfır olmalıdır. Modelimizde sabit eklediğimizden problem olmayacaktır gene de bakalım."
   ]
  },
  {
   "cell_type": "code",
   "execution_count": 14,
   "metadata": {},
   "outputs": [
    {
     "name": "stdout",
     "output_type": "stream",
     "text": [
      "Tıbbi maliyetler modelinin ortalama hatası : 0.000000000010387\n"
     ]
    }
   ],
   "source": [
    "tahmin = results.predict(x)\n",
    "hatalar = y - tahmin\n",
    "\n",
    "print(\"modelinin ortalama hatası : {:.15f}\".format(np.mean(hatalar)))\n",
    "#düşük oldğu görülür."
   ]
  },
  {
   "cell_type": "markdown",
   "metadata": {},
   "source": [
    "Üçüncü varsayım homoscedasticity gerekliliğidir."
   ]
  },
  {
   "cell_type": "code",
   "execution_count": 15,
   "metadata": {},
   "outputs": [
    {
     "name": "stdout",
     "output_type": "stream",
     "text": [
      "Bartlett test değeri : 2464.84 ve p değeri : 0.000000000000000000000\n",
      "Levene test değeri   : 2321.24 ve p değeri : 0.000000000000000000000\n"
     ]
    }
   ],
   "source": [
    "from scipy.stats import bartlett\n",
    "from scipy.stats import levene\n",
    "\n",
    "bart_stats = bartlett(tahmin, hatalar)\n",
    "lev_stats = levene(tahmin, hatalar)\n",
    "\n",
    "print(\"Bartlett test değeri : {0:3g} ve p değeri : {1:.21f}\".format(bart_stats[0], bart_stats[1]))\n",
    "print(\"Levene test değeri   : {0:3g} ve p değeri : {1:.21f}\".format(lev_stats[0], lev_stats[1]))\n",
    "\n",
    "#Her iki testin p değerleri 0.05'ten düşüktür. \n",
    "#Dolayısıyla, test sonuçları null hipotezini reddeder, bu da hatalarımızın heteroscedastic olduğu anlamına gelir."
   ]
  },
  {
   "cell_type": "markdown",
   "metadata": {},
   "source": [
    "4.düşük çoklu doğrusallık/low multicollinearity"
   ]
  },
  {
   "cell_type": "code",
   "execution_count": 14,
   "metadata": {},
   "outputs": [
    {
     "data": {
      "text/html": [
       "<div>\n",
       "<style scoped>\n",
       "    .dataframe tbody tr th:only-of-type {\n",
       "        vertical-align: middle;\n",
       "    }\n",
       "\n",
       "    .dataframe tbody tr th {\n",
       "        vertical-align: top;\n",
       "    }\n",
       "\n",
       "    .dataframe thead th {\n",
       "        text-align: right;\n",
       "    }\n",
       "</style>\n",
       "<table border=\"1\" class=\"dataframe\">\n",
       "  <thead>\n",
       "    <tr style=\"text-align: right;\">\n",
       "      <th></th>\n",
       "      <th>const</th>\n",
       "      <th>Humidity</th>\n",
       "      <th>Wind Speed (km/h)</th>\n",
       "      <th>Wind Bearing (degrees)</th>\n",
       "      <th>Pressure (millibars)</th>\n",
       "    </tr>\n",
       "  </thead>\n",
       "  <tbody>\n",
       "    <tr>\n",
       "      <th>const</th>\n",
       "      <td>NaN</td>\n",
       "      <td>NaN</td>\n",
       "      <td>NaN</td>\n",
       "      <td>NaN</td>\n",
       "      <td>NaN</td>\n",
       "    </tr>\n",
       "    <tr>\n",
       "      <th>Humidity</th>\n",
       "      <td>NaN</td>\n",
       "      <td>1.000000</td>\n",
       "      <td>-0.224951</td>\n",
       "      <td>0.000735</td>\n",
       "      <td>0.005454</td>\n",
       "    </tr>\n",
       "    <tr>\n",
       "      <th>Wind Speed (km/h)</th>\n",
       "      <td>NaN</td>\n",
       "      <td>-0.224951</td>\n",
       "      <td>1.000000</td>\n",
       "      <td>0.103822</td>\n",
       "      <td>-0.049263</td>\n",
       "    </tr>\n",
       "    <tr>\n",
       "      <th>Wind Bearing (degrees)</th>\n",
       "      <td>NaN</td>\n",
       "      <td>0.000735</td>\n",
       "      <td>0.103822</td>\n",
       "      <td>1.000000</td>\n",
       "      <td>-0.011651</td>\n",
       "    </tr>\n",
       "    <tr>\n",
       "      <th>Pressure (millibars)</th>\n",
       "      <td>NaN</td>\n",
       "      <td>0.005454</td>\n",
       "      <td>-0.049263</td>\n",
       "      <td>-0.011651</td>\n",
       "      <td>1.000000</td>\n",
       "    </tr>\n",
       "  </tbody>\n",
       "</table>\n",
       "</div>"
      ],
      "text/plain": [
       "                        const  Humidity  Wind Speed (km/h)  \\\n",
       "const                     NaN       NaN                NaN   \n",
       "Humidity                  NaN  1.000000          -0.224951   \n",
       "Wind Speed (km/h)         NaN -0.224951           1.000000   \n",
       "Wind Bearing (degrees)    NaN  0.000735           0.103822   \n",
       "Pressure (millibars)      NaN  0.005454          -0.049263   \n",
       "\n",
       "                        Wind Bearing (degrees)  Pressure (millibars)  \n",
       "const                                      NaN                   NaN  \n",
       "Humidity                              0.000735              0.005454  \n",
       "Wind Speed (km/h)                     0.103822             -0.049263  \n",
       "Wind Bearing (degrees)                1.000000             -0.011651  \n",
       "Pressure (millibars)                 -0.011651              1.000000  "
      ]
     },
     "execution_count": 14,
     "metadata": {},
     "output_type": "execute_result"
    }
   ],
   "source": [
    "#Featurelerın korelasyon matrisine bakarız. PCA ya da başka özniteliklerin çıkarılmasıyla giderebiliriz.\n",
    "x.corr()"
   ]
  },
  {
   "cell_type": "markdown",
   "metadata": {},
   "source": [
    " 5: hata terimleri birbiriyle ilişkisiz olmalıdır"
   ]
  },
  {
   "cell_type": "code",
   "execution_count": 24,
   "metadata": {},
   "outputs": [
    {
     "data": {
      "image/png": "[encoded data removed]",
      "text/plain": [
       "<Figure size 648x432 with 1 Axes>"
      ]
     },
     "metadata": {
      "needs_background": "light"
     },
     "output_type": "display_data"
    }
   ],
   "source": [
    "from statsmodels.tsa.stattools import acf\n",
    "\n",
    "acf_data = acf(hatalar)\n",
    "\n",
    "plt.figure(figsize=(9,6))\n",
    "plt.plot(acf_data[1:])\n",
    "plt.show()\n",
    "#modelimizin hataları arasındaki otokorelasyon gerçekten yüksektir. (düşüklük: örn:-0,06 ile 0,05 arasında)."
   ]
  },
  {
   "cell_type": "markdown",
   "metadata": {},
   "source": [
    "6: özellikler hatalarla korele olmamalıdır??"
   ]
  },
  {
   "cell_type": "markdown",
   "metadata": {},
   "source": [
    "Hataların normalliği?"
   ]
  },
  {
   "cell_type": "code",
   "execution_count": 25,
   "metadata": {},
   "outputs": [
    {
     "name": "stdout",
     "output_type": "stream",
     "text": [
      "Jarque-Bera test değeri : 3793.2967352522546 ve p değeri : 0.0\n",
      "Normal test değeri      : 3375.4323076995015  ve p değeri : 0.000000000000000000000000000000\n"
     ]
    }
   ],
   "source": [
    "from scipy.stats import jarque_bera\n",
    "from scipy.stats import normaltest\n",
    "jb_stats = jarque_bera(hatalar)\n",
    "norm_stats = normaltest(hatalar)\n",
    "\n",
    "print(\"Jarque-Bera test değeri : {0} ve p değeri : {1}\".format(jb_stats[0], jb_stats[1]))\n",
    "print(\"Normal test değeri      : {0}  ve p değeri : {1:.30f}\".format(norm_stats[0], norm_stats[1]))\n",
    "\n",
    "#Her iki testin p-değerleri, hatalarımızın normal olarak dağılmadığını gösterir.(<0.5)"
   ]
  },
  {
   "cell_type": "markdown",
   "metadata": {},
   "source": [
    "Bir çok varsayımı karşılamamaktadır."
   ]
  },
  {
   "cell_type": "markdown",
   "metadata": {},
   "source": [
    "Ev fiyatları verseti ile de lineer regresyonun varsayımlarına bakalım."
   ]
  },
  {
   "cell_type": "code",
   "execution_count": 16,
   "metadata": {},
   "outputs": [],
   "source": [
    "house_prices_df = pd.read_csv(\"https://djl-lms-assets.s3.eu-central-1.amazonaws.com/datasets/house_prices.csv\", sep = \";\")"
   ]
  },
  {
   "cell_type": "code",
   "execution_count": 20,
   "metadata": {},
   "outputs": [],
   "source": [
    "df=house_prices_df[[\"SalePrice\",\"BldgType\",\"YearBuilt\",\"FullBath\",\"BedroomAbvGr\",\"OverallQual\",\"GarageCars\",\"Street\",\"GrLivArea\"]]"
   ]
  },
  {
   "cell_type": "code",
   "execution_count": 28,
   "metadata": {},
   "outputs": [],
   "source": [
    "X1 = df.drop(['SalePrice'], axis=1)\n",
    "y1 = np.log(df.SalePrice)\n",
    "X1=pd.get_dummies(X1)"
   ]
  },
  {
   "cell_type": "code",
   "execution_count": 29,
   "metadata": {},
   "outputs": [
    {
     "name": "stdout",
     "output_type": "stream",
     "text": [
      "R^2 is: \n",
      " 0.8146524083897067\n"
     ]
    }
   ],
   "source": [
    "lrm = linear_model.LinearRegression()\n",
    "model2 = lrm.fit(X1, y1)\n",
    "print(\"R^2 is: \\n\", model2.score(X1, y1))"
   ]
  },
  {
   "cell_type": "code",
   "execution_count": 30,
   "metadata": {},
   "outputs": [
    {
     "data": {
      "text/html": [
       "<table class=\"simpletable\">\n",
       "<caption>OLS Regression Results</caption>\n",
       "<tr>\n",
       "  <th>Dep. Variable:</th>        <td>SalePrice</td>    <th>  R-squared:         </th> <td>   0.815</td>\n",
       "</tr>\n",
       "<tr>\n",
       "  <th>Model:</th>                   <td>OLS</td>       <th>  Adj. R-squared:    </th> <td>   0.813</td>\n",
       "</tr>\n",
       "<tr>\n",
       "  <th>Method:</th>             <td>Least Squares</td>  <th>  F-statistic:       </th> <td>   578.6</td>\n",
       "</tr>\n",
       "<tr>\n",
       "  <th>Date:</th>             <td>Sat, 17 Apr 2021</td> <th>  Prob (F-statistic):</th>  <td>  0.00</td> \n",
       "</tr>\n",
       "<tr>\n",
       "  <th>Time:</th>                 <td>21:19:32</td>     <th>  Log-Likelihood:    </th> <td>  499.07</td>\n",
       "</tr>\n",
       "<tr>\n",
       "  <th>No. Observations:</th>      <td>  1460</td>      <th>  AIC:               </th> <td>  -974.1</td>\n",
       "</tr>\n",
       "<tr>\n",
       "  <th>Df Residuals:</th>          <td>  1448</td>      <th>  BIC:               </th> <td>  -910.7</td>\n",
       "</tr>\n",
       "<tr>\n",
       "  <th>Df Model:</th>              <td>    11</td>      <th>                     </th>     <td> </td>   \n",
       "</tr>\n",
       "<tr>\n",
       "  <th>Covariance Type:</th>      <td>nonrobust</td>    <th>                     </th>     <td> </td>   \n",
       "</tr>\n",
       "</table>\n",
       "<table class=\"simpletable\">\n",
       "<tr>\n",
       "         <td></td>            <th>coef</th>     <th>std err</th>      <th>t</th>      <th>P>|t|</th>  <th>[0.025</th>    <th>0.975]</th>  \n",
       "</tr>\n",
       "<tr>\n",
       "  <th>const</th>           <td>    2.7140</td> <td>    0.246</td> <td>   11.051</td> <td> 0.000</td> <td>    2.232</td> <td>    3.196</td>\n",
       "</tr>\n",
       "<tr>\n",
       "  <th>YearBuilt</th>       <td>    0.0031</td> <td>    0.000</td> <td>   14.218</td> <td> 0.000</td> <td>    0.003</td> <td>    0.004</td>\n",
       "</tr>\n",
       "<tr>\n",
       "  <th>FullBath</th>        <td>   -0.0033</td> <td>    0.012</td> <td>   -0.272</td> <td> 0.786</td> <td>   -0.027</td> <td>    0.021</td>\n",
       "</tr>\n",
       "<tr>\n",
       "  <th>BedroomAbvGr</th>    <td>   -0.0192</td> <td>    0.007</td> <td>   -2.621</td> <td> 0.009</td> <td>   -0.034</td> <td>   -0.005</td>\n",
       "</tr>\n",
       "<tr>\n",
       "  <th>OverallQual</th>     <td>    0.1084</td> <td>    0.005</td> <td>   20.214</td> <td> 0.000</td> <td>    0.098</td> <td>    0.119</td>\n",
       "</tr>\n",
       "<tr>\n",
       "  <th>GarageCars</th>      <td>    0.0852</td> <td>    0.008</td> <td>   10.244</td> <td> 0.000</td> <td>    0.069</td> <td>    0.102</td>\n",
       "</tr>\n",
       "<tr>\n",
       "  <th>GrLivArea</th>       <td>    0.0003</td> <td> 1.47e-05</td> <td>   18.929</td> <td> 0.000</td> <td>    0.000</td> <td>    0.000</td>\n",
       "</tr>\n",
       "<tr>\n",
       "  <th>BldgType_1Fam</th>   <td>    0.6352</td> <td>    0.050</td> <td>   12.730</td> <td> 0.000</td> <td>    0.537</td> <td>    0.733</td>\n",
       "</tr>\n",
       "<tr>\n",
       "  <th>BldgType_2fmCon</th> <td>    0.6199</td> <td>    0.051</td> <td>   12.084</td> <td> 0.000</td> <td>    0.519</td> <td>    0.721</td>\n",
       "</tr>\n",
       "<tr>\n",
       "  <th>BldgType_Duplex</th> <td>    0.5199</td> <td>    0.054</td> <td>    9.540</td> <td> 0.000</td> <td>    0.413</td> <td>    0.627</td>\n",
       "</tr>\n",
       "<tr>\n",
       "  <th>BldgType_Twnhs</th>  <td>    0.4067</td> <td>    0.057</td> <td>    7.150</td> <td> 0.000</td> <td>    0.295</td> <td>    0.518</td>\n",
       "</tr>\n",
       "<tr>\n",
       "  <th>BldgType_TwnhsE</th> <td>    0.5324</td> <td>    0.054</td> <td>    9.825</td> <td> 0.000</td> <td>    0.426</td> <td>    0.639</td>\n",
       "</tr>\n",
       "<tr>\n",
       "  <th>Street_Grvl</th>     <td>    1.3094</td> <td>    0.131</td> <td>   10.018</td> <td> 0.000</td> <td>    1.053</td> <td>    1.566</td>\n",
       "</tr>\n",
       "<tr>\n",
       "  <th>Street_Pave</th>     <td>    1.4045</td> <td>    0.125</td> <td>   11.235</td> <td> 0.000</td> <td>    1.159</td> <td>    1.650</td>\n",
       "</tr>\n",
       "</table>\n",
       "<table class=\"simpletable\">\n",
       "<tr>\n",
       "  <th>Omnibus:</th>       <td>637.371</td> <th>  Durbin-Watson:     </th> <td>   2.003</td> \n",
       "</tr>\n",
       "<tr>\n",
       "  <th>Prob(Omnibus):</th> <td> 0.000</td>  <th>  Jarque-Bera (JB):  </th> <td>10340.008</td>\n",
       "</tr>\n",
       "<tr>\n",
       "  <th>Skew:</th>          <td>-1.603</td>  <th>  Prob(JB):          </th> <td>    0.00</td> \n",
       "</tr>\n",
       "<tr>\n",
       "  <th>Kurtosis:</th>      <td>15.637</td>  <th>  Cond. No.          </th> <td>8.50e+19</td> \n",
       "</tr>\n",
       "</table><br/><br/>Notes:<br/>[1] Standard Errors assume that the covariance matrix of the errors is correctly specified.<br/>[2] The smallest eigenvalue is 1.27e-30. This might indicate that there are<br/>strong multicollinearity problems or that the design matrix is singular."
      ],
      "text/plain": [
       "<class 'statsmodels.iolib.summary.Summary'>\n",
       "\"\"\"\n",
       "                            OLS Regression Results                            \n",
       "==============================================================================\n",
       "Dep. Variable:              SalePrice   R-squared:                       0.815\n",
       "Model:                            OLS   Adj. R-squared:                  0.813\n",
       "Method:                 Least Squares   F-statistic:                     578.6\n",
       "Date:                Sat, 17 Apr 2021   Prob (F-statistic):               0.00\n",
       "Time:                        21:19:32   Log-Likelihood:                 499.07\n",
       "No. Observations:                1460   AIC:                            -974.1\n",
       "Df Residuals:                    1448   BIC:                            -910.7\n",
       "Df Model:                          11                                         \n",
       "Covariance Type:            nonrobust                                         \n",
       "===================================================================================\n",
       "                      coef    std err          t      P>|t|      [0.025      0.975]\n",
       "-----------------------------------------------------------------------------------\n",
       "const               2.7140      0.246     11.051      0.000       2.232       3.196\n",
       "YearBuilt           0.0031      0.000     14.218      0.000       0.003       0.004\n",
       "FullBath           -0.0033      0.012     -0.272      0.786      -0.027       0.021\n",
       "BedroomAbvGr       -0.0192      0.007     -2.621      0.009      -0.034      -0.005\n",
       "OverallQual         0.1084      0.005     20.214      0.000       0.098       0.119\n",
       "GarageCars          0.0852      0.008     10.244      0.000       0.069       0.102\n",
       "GrLivArea           0.0003   1.47e-05     18.929      0.000       0.000       0.000\n",
       "BldgType_1Fam       0.6352      0.050     12.730      0.000       0.537       0.733\n",
       "BldgType_2fmCon     0.6199      0.051     12.084      0.000       0.519       0.721\n",
       "BldgType_Duplex     0.5199      0.054      9.540      0.000       0.413       0.627\n",
       "BldgType_Twnhs      0.4067      0.057      7.150      0.000       0.295       0.518\n",
       "BldgType_TwnhsE     0.5324      0.054      9.825      0.000       0.426       0.639\n",
       "Street_Grvl         1.3094      0.131     10.018      0.000       1.053       1.566\n",
       "Street_Pave         1.4045      0.125     11.235      0.000       1.159       1.650\n",
       "==============================================================================\n",
       "Omnibus:                      637.371   Durbin-Watson:                   2.003\n",
       "Prob(Omnibus):                  0.000   Jarque-Bera (JB):            10340.008\n",
       "Skew:                          -1.603   Prob(JB):                         0.00\n",
       "Kurtosis:                      15.637   Cond. No.                     8.50e+19\n",
       "==============================================================================\n",
       "\n",
       "Notes:\n",
       "[1] Standard Errors assume that the covariance matrix of the errors is correctly specified.\n",
       "[2] The smallest eigenvalue is 1.27e-30. This might indicate that there are\n",
       "strong multicollinearity problems or that the design matrix is singular.\n",
       "\"\"\""
      ]
     },
     "execution_count": 30,
     "metadata": {},
     "output_type": "execute_result"
    }
   ],
   "source": [
    "X1 = sm.add_constant(X1)\n",
    "result = sm.OLS(y1, X1).fit()\n",
    "result.summary()"
   ]
  },
  {
   "cell_type": "code",
   "execution_count": 32,
   "metadata": {},
   "outputs": [
    {
     "name": "stdout",
     "output_type": "stream",
     "text": [
      "modelinin ortalama hatası : 0.000000000000003\n"
     ]
    }
   ],
   "source": [
    "tahmin = result.predict(X1)\n",
    "hatalar = y1 - tahmin\n",
    "\n",
    "print(\"modelinin ortalama hatası : {:.15f}\".format(np.mean(hatalar)))\n",
    "#düşük oldğu görülür."
   ]
  },
  {
   "cell_type": "code",
   "execution_count": 33,
   "metadata": {},
   "outputs": [
    {
     "name": "stdout",
     "output_type": "stream",
     "text": [
      "Bartlett test değeri : 735.407 ve p değeri : 0.000000000000000000000\n",
      "Levene test değeri   : 736.681 ve p değeri : 0.000000000000000000000\n"
     ]
    }
   ],
   "source": [
    "from scipy.stats import bartlett\n",
    "from scipy.stats import levene\n",
    "\n",
    "bart_stats = bartlett(tahmin, hatalar)\n",
    "lev_stats = levene(tahmin, hatalar)\n",
    "\n",
    "print(\"Bartlett test değeri : {0:3g} ve p değeri : {1:.21f}\".format(bart_stats[0], bart_stats[1]))\n",
    "print(\"Levene test değeri   : {0:3g} ve p değeri : {1:.21f}\".format(lev_stats[0], lev_stats[1]))\n",
    "\n",
    "#Her iki testin p değerleri 0.05'ten düşüktür. \n",
    "#Dolayısıyla, test sonuçları null hipotezini reddeder, bu da hatalarımızın heteroscedastic olduğu anlamına gelir."
   ]
  },
  {
   "cell_type": "markdown",
   "metadata": {},
   "source": [
    "Heteroscedasticlikle ilgili bir sürü durum olabilir. Aykırı değerler ve hedef değişkenin varyansını açıklamakta önemli olan değişkenlerin ihmal edilmesi yer almaktadır. Bu nedenle, aykırı değerlerle baş etmek ve ilgili değişkenleri dahil etmek, Heteroscedasticity sorununu düzeltmeye yardımcı olur."
   ]
  },
  {
   "cell_type": "code",
   "execution_count": 34,
   "metadata": {},
   "outputs": [
    {
     "data": {
      "text/html": [
       "<div>\n",
       "<style scoped>\n",
       "    .dataframe tbody tr th:only-of-type {\n",
       "        vertical-align: middle;\n",
       "    }\n",
       "\n",
       "    .dataframe tbody tr th {\n",
       "        vertical-align: top;\n",
       "    }\n",
       "\n",
       "    .dataframe thead th {\n",
       "        text-align: right;\n",
       "    }\n",
       "</style>\n",
       "<table border=\"1\" class=\"dataframe\">\n",
       "  <thead>\n",
       "    <tr style=\"text-align: right;\">\n",
       "      <th></th>\n",
       "      <th>const</th>\n",
       "      <th>YearBuilt</th>\n",
       "      <th>FullBath</th>\n",
       "      <th>BedroomAbvGr</th>\n",
       "      <th>OverallQual</th>\n",
       "      <th>GarageCars</th>\n",
       "      <th>GrLivArea</th>\n",
       "      <th>BldgType_1Fam</th>\n",
       "      <th>BldgType_2fmCon</th>\n",
       "      <th>BldgType_Duplex</th>\n",
       "      <th>BldgType_Twnhs</th>\n",
       "      <th>BldgType_TwnhsE</th>\n",
       "      <th>Street_Grvl</th>\n",
       "      <th>Street_Pave</th>\n",
       "    </tr>\n",
       "  </thead>\n",
       "  <tbody>\n",
       "    <tr>\n",
       "      <th>const</th>\n",
       "      <td>NaN</td>\n",
       "      <td>NaN</td>\n",
       "      <td>NaN</td>\n",
       "      <td>NaN</td>\n",
       "      <td>NaN</td>\n",
       "      <td>NaN</td>\n",
       "      <td>NaN</td>\n",
       "      <td>NaN</td>\n",
       "      <td>NaN</td>\n",
       "      <td>NaN</td>\n",
       "      <td>NaN</td>\n",
       "      <td>NaN</td>\n",
       "      <td>NaN</td>\n",
       "      <td>NaN</td>\n",
       "    </tr>\n",
       "    <tr>\n",
       "      <th>YearBuilt</th>\n",
       "      <td>NaN</td>\n",
       "      <td>1.000000</td>\n",
       "      <td>0.468271</td>\n",
       "      <td>-0.070651</td>\n",
       "      <td>0.572323</td>\n",
       "      <td>0.537850</td>\n",
       "      <td>0.199010</td>\n",
       "      <td>-0.119096</td>\n",
       "      <td>-0.206036</td>\n",
       "      <td>-0.026063</td>\n",
       "      <td>0.086878</td>\n",
       "      <td>0.238477</td>\n",
       "      <td>-0.021137</td>\n",
       "      <td>0.021137</td>\n",
       "    </tr>\n",
       "    <tr>\n",
       "      <th>FullBath</th>\n",
       "      <td>NaN</td>\n",
       "      <td>0.468271</td>\n",
       "      <td>1.000000</td>\n",
       "      <td>0.363252</td>\n",
       "      <td>0.550600</td>\n",
       "      <td>0.469672</td>\n",
       "      <td>0.630012</td>\n",
       "      <td>-0.078467</td>\n",
       "      <td>-0.004461</td>\n",
       "      <td>0.084664</td>\n",
       "      <td>0.012520</td>\n",
       "      <td>0.044417</td>\n",
       "      <td>-0.046471</td>\n",
       "      <td>0.046471</td>\n",
       "    </tr>\n",
       "    <tr>\n",
       "      <th>BedroomAbvGr</th>\n",
       "      <td>NaN</td>\n",
       "      <td>-0.070651</td>\n",
       "      <td>0.363252</td>\n",
       "      <td>1.000000</td>\n",
       "      <td>0.101676</td>\n",
       "      <td>0.086106</td>\n",
       "      <td>0.521270</td>\n",
       "      <td>0.169838</td>\n",
       "      <td>0.088210</td>\n",
       "      <td>0.162898</td>\n",
       "      <td>-0.105598</td>\n",
       "      <td>-0.327986</td>\n",
       "      <td>-0.028865</td>\n",
       "      <td>0.028865</td>\n",
       "    </tr>\n",
       "    <tr>\n",
       "      <th>OverallQual</th>\n",
       "      <td>NaN</td>\n",
       "      <td>0.572323</td>\n",
       "      <td>0.550600</td>\n",
       "      <td>0.101676</td>\n",
       "      <td>1.000000</td>\n",
       "      <td>0.600671</td>\n",
       "      <td>0.593007</td>\n",
       "      <td>0.035872</td>\n",
       "      <td>-0.123989</td>\n",
       "      <td>-0.158156</td>\n",
       "      <td>-0.003723</td>\n",
       "      <td>0.128662</td>\n",
       "      <td>-0.058823</td>\n",
       "      <td>0.058823</td>\n",
       "    </tr>\n",
       "    <tr>\n",
       "      <th>GarageCars</th>\n",
       "      <td>NaN</td>\n",
       "      <td>0.537850</td>\n",
       "      <td>0.469672</td>\n",
       "      <td>0.086106</td>\n",
       "      <td>0.600671</td>\n",
       "      <td>1.000000</td>\n",
       "      <td>0.467247</td>\n",
       "      <td>0.039851</td>\n",
       "      <td>-0.106724</td>\n",
       "      <td>-0.024193</td>\n",
       "      <td>-0.075845</td>\n",
       "      <td>0.066799</td>\n",
       "      <td>0.020025</td>\n",
       "      <td>-0.020025</td>\n",
       "    </tr>\n",
       "    <tr>\n",
       "      <th>GrLivArea</th>\n",
       "      <td>NaN</td>\n",
       "      <td>0.199010</td>\n",
       "      <td>0.630012</td>\n",
       "      <td>0.521270</td>\n",
       "      <td>0.593007</td>\n",
       "      <td>0.467247</td>\n",
       "      <td>1.000000</td>\n",
       "      <td>0.103134</td>\n",
       "      <td>0.012894</td>\n",
       "      <td>0.018967</td>\n",
       "      <td>-0.079272</td>\n",
       "      <td>-0.112542</td>\n",
       "      <td>-0.044121</td>\n",
       "      <td>0.044121</td>\n",
       "    </tr>\n",
       "    <tr>\n",
       "      <th>BldgType_1Fam</th>\n",
       "      <td>NaN</td>\n",
       "      <td>-0.119096</td>\n",
       "      <td>-0.078467</td>\n",
       "      <td>0.169838</td>\n",
       "      <td>0.035872</td>\n",
       "      <td>0.039851</td>\n",
       "      <td>0.103134</td>\n",
       "      <td>1.000000</td>\n",
       "      <td>-0.332077</td>\n",
       "      <td>-0.433286</td>\n",
       "      <td>-0.392757</td>\n",
       "      <td>-0.656152</td>\n",
       "      <td>-0.058171</td>\n",
       "      <td>0.058171</td>\n",
       "    </tr>\n",
       "    <tr>\n",
       "      <th>BldgType_2fmCon</th>\n",
       "      <td>NaN</td>\n",
       "      <td>-0.206036</td>\n",
       "      <td>-0.004461</td>\n",
       "      <td>0.088210</td>\n",
       "      <td>-0.123989</td>\n",
       "      <td>-0.106724</td>\n",
       "      <td>0.012894</td>\n",
       "      <td>-0.332077</td>\n",
       "      <td>1.000000</td>\n",
       "      <td>-0.028305</td>\n",
       "      <td>-0.025657</td>\n",
       "      <td>-0.042864</td>\n",
       "      <td>0.064806</td>\n",
       "      <td>-0.064806</td>\n",
       "    </tr>\n",
       "    <tr>\n",
       "      <th>BldgType_Duplex</th>\n",
       "      <td>NaN</td>\n",
       "      <td>-0.026063</td>\n",
       "      <td>0.084664</td>\n",
       "      <td>0.162898</td>\n",
       "      <td>-0.158156</td>\n",
       "      <td>-0.024193</td>\n",
       "      <td>0.018967</td>\n",
       "      <td>-0.433286</td>\n",
       "      <td>-0.028305</td>\n",
       "      <td>1.000000</td>\n",
       "      <td>-0.033477</td>\n",
       "      <td>-0.055928</td>\n",
       "      <td>0.103192</td>\n",
       "      <td>-0.103192</td>\n",
       "    </tr>\n",
       "    <tr>\n",
       "      <th>BldgType_Twnhs</th>\n",
       "      <td>NaN</td>\n",
       "      <td>0.086878</td>\n",
       "      <td>0.012520</td>\n",
       "      <td>-0.105598</td>\n",
       "      <td>-0.003723</td>\n",
       "      <td>-0.075845</td>\n",
       "      <td>-0.079272</td>\n",
       "      <td>-0.392757</td>\n",
       "      <td>-0.025657</td>\n",
       "      <td>-0.033477</td>\n",
       "      <td>1.000000</td>\n",
       "      <td>-0.050697</td>\n",
       "      <td>-0.011190</td>\n",
       "      <td>0.011190</td>\n",
       "    </tr>\n",
       "    <tr>\n",
       "      <th>BldgType_TwnhsE</th>\n",
       "      <td>NaN</td>\n",
       "      <td>0.238477</td>\n",
       "      <td>0.044417</td>\n",
       "      <td>-0.327986</td>\n",
       "      <td>0.128662</td>\n",
       "      <td>0.066799</td>\n",
       "      <td>-0.112542</td>\n",
       "      <td>-0.656152</td>\n",
       "      <td>-0.042864</td>\n",
       "      <td>-0.055928</td>\n",
       "      <td>-0.050697</td>\n",
       "      <td>1.000000</td>\n",
       "      <td>-0.018695</td>\n",
       "      <td>0.018695</td>\n",
       "    </tr>\n",
       "    <tr>\n",
       "      <th>Street_Grvl</th>\n",
       "      <td>NaN</td>\n",
       "      <td>-0.021137</td>\n",
       "      <td>-0.046471</td>\n",
       "      <td>-0.028865</td>\n",
       "      <td>-0.058823</td>\n",
       "      <td>0.020025</td>\n",
       "      <td>-0.044121</td>\n",
       "      <td>-0.058171</td>\n",
       "      <td>0.064806</td>\n",
       "      <td>0.103192</td>\n",
       "      <td>-0.011190</td>\n",
       "      <td>-0.018695</td>\n",
       "      <td>1.000000</td>\n",
       "      <td>-1.000000</td>\n",
       "    </tr>\n",
       "    <tr>\n",
       "      <th>Street_Pave</th>\n",
       "      <td>NaN</td>\n",
       "      <td>0.021137</td>\n",
       "      <td>0.046471</td>\n",
       "      <td>0.028865</td>\n",
       "      <td>0.058823</td>\n",
       "      <td>-0.020025</td>\n",
       "      <td>0.044121</td>\n",
       "      <td>0.058171</td>\n",
       "      <td>-0.064806</td>\n",
       "      <td>-0.103192</td>\n",
       "      <td>0.011190</td>\n",
       "      <td>0.018695</td>\n",
       "      <td>-1.000000</td>\n",
       "      <td>1.000000</td>\n",
       "    </tr>\n",
       "  </tbody>\n",
       "</table>\n",
       "</div>"
      ],
      "text/plain": [
       "                 const  YearBuilt  FullBath  BedroomAbvGr  OverallQual  \\\n",
       "const              NaN        NaN       NaN           NaN          NaN   \n",
       "YearBuilt          NaN   1.000000  0.468271     -0.070651     0.572323   \n",
       "FullBath           NaN   0.468271  1.000000      0.363252     0.550600   \n",
       "BedroomAbvGr       NaN  -0.070651  0.363252      1.000000     0.101676   \n",
       "OverallQual        NaN   0.572323  0.550600      0.101676     1.000000   \n",
       "GarageCars         NaN   0.537850  0.469672      0.086106     0.600671   \n",
       "GrLivArea          NaN   0.199010  0.630012      0.521270     0.593007   \n",
       "BldgType_1Fam      NaN  -0.119096 -0.078467      0.169838     0.035872   \n",
       "BldgType_2fmCon    NaN  -0.206036 -0.004461      0.088210    -0.123989   \n",
       "BldgType_Duplex    NaN  -0.026063  0.084664      0.162898    -0.158156   \n",
       "BldgType_Twnhs     NaN   0.086878  0.012520     -0.105598    -0.003723   \n",
       "BldgType_TwnhsE    NaN   0.238477  0.044417     -0.327986     0.128662   \n",
       "Street_Grvl        NaN  -0.021137 -0.046471     -0.028865    -0.058823   \n",
       "Street_Pave        NaN   0.021137  0.046471      0.028865     0.058823   \n",
       "\n",
       "                 GarageCars  GrLivArea  BldgType_1Fam  BldgType_2fmCon  \\\n",
       "const                   NaN        NaN            NaN              NaN   \n",
       "YearBuilt          0.537850   0.199010      -0.119096        -0.206036   \n",
       "FullBath           0.469672   0.630012      -0.078467        -0.004461   \n",
       "BedroomAbvGr       0.086106   0.521270       0.169838         0.088210   \n",
       "OverallQual        0.600671   0.593007       0.035872        -0.123989   \n",
       "GarageCars         1.000000   0.467247       0.039851        -0.106724   \n",
       "GrLivArea          0.467247   1.000000       0.103134         0.012894   \n",
       "BldgType_1Fam      0.039851   0.103134       1.000000        -0.332077   \n",
       "BldgType_2fmCon   -0.106724   0.012894      -0.332077         1.000000   \n",
       "BldgType_Duplex   -0.024193   0.018967      -0.433286        -0.028305   \n",
       "BldgType_Twnhs    -0.075845  -0.079272      -0.392757        -0.025657   \n",
       "BldgType_TwnhsE    0.066799  -0.112542      -0.656152        -0.042864   \n",
       "Street_Grvl        0.020025  -0.044121      -0.058171         0.064806   \n",
       "Street_Pave       -0.020025   0.044121       0.058171        -0.064806   \n",
       "\n",
       "                 BldgType_Duplex  BldgType_Twnhs  BldgType_TwnhsE  \\\n",
       "const                        NaN             NaN              NaN   \n",
       "YearBuilt              -0.026063        0.086878         0.238477   \n",
       "FullBath                0.084664        0.012520         0.044417   \n",
       "BedroomAbvGr            0.162898       -0.105598        -0.327986   \n",
       "OverallQual            -0.158156       -0.003723         0.128662   \n",
       "GarageCars             -0.024193       -0.075845         0.066799   \n",
       "GrLivArea               0.018967       -0.079272        -0.112542   \n",
       "BldgType_1Fam          -0.433286       -0.392757        -0.656152   \n",
       "BldgType_2fmCon        -0.028305       -0.025657        -0.042864   \n",
       "BldgType_Duplex         1.000000       -0.033477        -0.055928   \n",
       "BldgType_Twnhs         -0.033477        1.000000        -0.050697   \n",
       "BldgType_TwnhsE        -0.055928       -0.050697         1.000000   \n",
       "Street_Grvl             0.103192       -0.011190        -0.018695   \n",
       "Street_Pave            -0.103192        0.011190         0.018695   \n",
       "\n",
       "                 Street_Grvl  Street_Pave  \n",
       "const                    NaN          NaN  \n",
       "YearBuilt          -0.021137     0.021137  \n",
       "FullBath           -0.046471     0.046471  \n",
       "BedroomAbvGr       -0.028865     0.028865  \n",
       "OverallQual        -0.058823     0.058823  \n",
       "GarageCars          0.020025    -0.020025  \n",
       "GrLivArea          -0.044121     0.044121  \n",
       "BldgType_1Fam      -0.058171     0.058171  \n",
       "BldgType_2fmCon     0.064806    -0.064806  \n",
       "BldgType_Duplex     0.103192    -0.103192  \n",
       "BldgType_Twnhs     -0.011190     0.011190  \n",
       "BldgType_TwnhsE    -0.018695     0.018695  \n",
       "Street_Grvl         1.000000    -1.000000  \n",
       "Street_Pave        -1.000000     1.000000  "
      ]
     },
     "execution_count": 34,
     "metadata": {},
     "output_type": "execute_result"
    }
   ],
   "source": [
    "X1.corr()"
   ]
  },
  {
   "cell_type": "code",
   "execution_count": 42,
   "metadata": {},
   "outputs": [
    {
     "data": {
      "text/plain": [
       "<AxesSubplot:>"
      ]
     },
     "execution_count": 42,
     "metadata": {},
     "output_type": "execute_result"
    },
    {
     "data": {
      "image/png": "[encoded data removed]",
      "text/plain": [
       "<Figure size 432x288 with 2 Axes>"
      ]
     },
     "metadata": {
      "needs_background": "light"
     },
     "output_type": "display_data"
    }
   ],
   "source": [
    "sns.heatmap(X1.corr())"
   ]
  },
  {
   "cell_type": "code",
   "execution_count": 40,
   "metadata": {
    "scrolled": true
   },
   "outputs": [
    {
     "data": {
      "image/png": "[encoded data removed]",
      "text/plain": [
       "<Figure size 648x432 with 1 Axes>"
      ]
     },
     "metadata": {
      "needs_background": "light"
     },
     "output_type": "display_data"
    }
   ],
   "source": [
    "## from statsmodels.tsa.stattools import acf\n",
    "\n",
    "acf_data = acf(hatalar)\n",
    "\n",
    "plt.figure(figsize=(9,6))\n",
    "plt.plot(acf_data[1:])\n",
    "plt.show()\n",
    "#modelimizin hataları arasındaki otokorelasyon gerçekten düşüktür. "
   ]
  },
  {
   "cell_type": "markdown",
   "metadata": {},
   "source": [
    "bazı varsayımları karşılıyor bazılarını karşılamıyor ancak model r^2 den dolayı kullanılabilir."
   ]
  }
 ],
 "metadata": {
  "kernelspec": {
   "display_name": "Python 3",
   "language": "python",
   "name": "python3"
  },
  "language_info": {
   "codemirror_mode": {
    "name": "ipython",
    "version": 3
   },
   "file_extension": ".py",
   "mimetype": "text/x-python",
   "name": "python",
   "nbconvert_exporter": "python",
   "pygments_lexer": "ipython3",
   "version": "3.8.5"
  }
 },
 "nbformat": 4,
 "nbformat_minor": 4
}
