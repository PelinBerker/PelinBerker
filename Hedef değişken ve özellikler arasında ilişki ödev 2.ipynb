{
 "cells": [
  {
   "cell_type": "code",
   "execution_count": 60,
   "metadata": {},
   "outputs": [],
   "source": [
    "import numpy as np\n",
    "import pandas as pd\n",
    "import seaborn as sns\n",
    "import pandas as pd\n",
    "from sklearn import linear_model\n",
    "import matplotlib.pyplot as plt\n",
    "from sklearn.model_selection import train_test_split\n",
    "from sklearn.linear_model import LinearRegression\n",
    "from sklearn.model_selection import train_test_split\n",
    "from sklearn.metrics import mean_absolute_error\n",
    "import statsmodels.api as sm\n",
    "from statsmodels.tools.eval_measures import mse, rmse\n",
    "\n",
    "import warnings\n",
    "warnings.filterwarnings('ignore')"
   ]
  },
  {
   "cell_type": "markdown",
   "metadata": {},
   "source": [
    "Ev fiyatları modelinizi tekrar çalıştırın ve sonuçları yorumlayın. Hangi özellikler istatistiksel olarak anlamlı ve hangileri değildir?"
   ]
  },
  {
   "cell_type": "code",
   "execution_count": 61,
   "metadata": {},
   "outputs": [],
   "source": [
    "house_prices_df = pd.read_csv(\"https://djl-lms-assets.s3.eu-central-1.amazonaws.com/datasets/house_prices.csv\", sep = \";\")"
   ]
  },
  {
   "cell_type": "code",
   "execution_count": 62,
   "metadata": {},
   "outputs": [],
   "source": [
    "df=house_prices_df[[\"SalePrice\",\"BldgType\",\"YearBuilt\",\"FullBath\",\"BedroomAbvGr\",\"OverallQual\",\"GarageCars\",\"Street\",\"GrLivArea\"]]"
   ]
  },
  {
   "cell_type": "code",
   "execution_count": 63,
   "metadata": {},
   "outputs": [],
   "source": [
    "X1 = df.drop(['SalePrice'], axis=1)\n",
    "y1 = np.log(df.SalePrice)\n",
    "X1=pd.get_dummies(X1)"
   ]
  },
  {
   "cell_type": "code",
   "execution_count": 64,
   "metadata": {},
   "outputs": [
    {
     "data": {
      "text/html": [
       "<table class=\"simpletable\">\n",
       "<caption>OLS Regression Results</caption>\n",
       "<tr>\n",
       "  <th>Dep. Variable:</th>        <td>SalePrice</td>    <th>  R-squared:         </th> <td>   0.815</td>\n",
       "</tr>\n",
       "<tr>\n",
       "  <th>Model:</th>                   <td>OLS</td>       <th>  Adj. R-squared:    </th> <td>   0.813</td>\n",
       "</tr>\n",
       "<tr>\n",
       "  <th>Method:</th>             <td>Least Squares</td>  <th>  F-statistic:       </th> <td>   578.6</td>\n",
       "</tr>\n",
       "<tr>\n",
       "  <th>Date:</th>             <td>Sat, 17 Apr 2021</td> <th>  Prob (F-statistic):</th>  <td>  0.00</td> \n",
       "</tr>\n",
       "<tr>\n",
       "  <th>Time:</th>                 <td>22:17:48</td>     <th>  Log-Likelihood:    </th> <td>  499.07</td>\n",
       "</tr>\n",
       "<tr>\n",
       "  <th>No. Observations:</th>      <td>  1460</td>      <th>  AIC:               </th> <td>  -974.1</td>\n",
       "</tr>\n",
       "<tr>\n",
       "  <th>Df Residuals:</th>          <td>  1448</td>      <th>  BIC:               </th> <td>  -910.7</td>\n",
       "</tr>\n",
       "<tr>\n",
       "  <th>Df Model:</th>              <td>    11</td>      <th>                     </th>     <td> </td>   \n",
       "</tr>\n",
       "<tr>\n",
       "  <th>Covariance Type:</th>      <td>nonrobust</td>    <th>                     </th>     <td> </td>   \n",
       "</tr>\n",
       "</table>\n",
       "<table class=\"simpletable\">\n",
       "<tr>\n",
       "         <td></td>            <th>coef</th>     <th>std err</th>      <th>t</th>      <th>P>|t|</th>  <th>[0.025</th>    <th>0.975]</th>  \n",
       "</tr>\n",
       "<tr>\n",
       "  <th>const</th>           <td>    2.7140</td> <td>    0.246</td> <td>   11.051</td> <td> 0.000</td> <td>    2.232</td> <td>    3.196</td>\n",
       "</tr>\n",
       "<tr>\n",
       "  <th>YearBuilt</th>       <td>    0.0031</td> <td>    0.000</td> <td>   14.218</td> <td> 0.000</td> <td>    0.003</td> <td>    0.004</td>\n",
       "</tr>\n",
       "<tr>\n",
       "  <th>FullBath</th>        <td>   -0.0033</td> <td>    0.012</td> <td>   -0.272</td> <td> 0.786</td> <td>   -0.027</td> <td>    0.021</td>\n",
       "</tr>\n",
       "<tr>\n",
       "  <th>BedroomAbvGr</th>    <td>   -0.0192</td> <td>    0.007</td> <td>   -2.621</td> <td> 0.009</td> <td>   -0.034</td> <td>   -0.005</td>\n",
       "</tr>\n",
       "<tr>\n",
       "  <th>OverallQual</th>     <td>    0.1084</td> <td>    0.005</td> <td>   20.214</td> <td> 0.000</td> <td>    0.098</td> <td>    0.119</td>\n",
       "</tr>\n",
       "<tr>\n",
       "  <th>GarageCars</th>      <td>    0.0852</td> <td>    0.008</td> <td>   10.244</td> <td> 0.000</td> <td>    0.069</td> <td>    0.102</td>\n",
       "</tr>\n",
       "<tr>\n",
       "  <th>GrLivArea</th>       <td>    0.0003</td> <td> 1.47e-05</td> <td>   18.929</td> <td> 0.000</td> <td>    0.000</td> <td>    0.000</td>\n",
       "</tr>\n",
       "<tr>\n",
       "  <th>BldgType_1Fam</th>   <td>    0.6352</td> <td>    0.050</td> <td>   12.730</td> <td> 0.000</td> <td>    0.537</td> <td>    0.733</td>\n",
       "</tr>\n",
       "<tr>\n",
       "  <th>BldgType_2fmCon</th> <td>    0.6199</td> <td>    0.051</td> <td>   12.084</td> <td> 0.000</td> <td>    0.519</td> <td>    0.721</td>\n",
       "</tr>\n",
       "<tr>\n",
       "  <th>BldgType_Duplex</th> <td>    0.5199</td> <td>    0.054</td> <td>    9.540</td> <td> 0.000</td> <td>    0.413</td> <td>    0.627</td>\n",
       "</tr>\n",
       "<tr>\n",
       "  <th>BldgType_Twnhs</th>  <td>    0.4067</td> <td>    0.057</td> <td>    7.150</td> <td> 0.000</td> <td>    0.295</td> <td>    0.518</td>\n",
       "</tr>\n",
       "<tr>\n",
       "  <th>BldgType_TwnhsE</th> <td>    0.5324</td> <td>    0.054</td> <td>    9.825</td> <td> 0.000</td> <td>    0.426</td> <td>    0.639</td>\n",
       "</tr>\n",
       "<tr>\n",
       "  <th>Street_Grvl</th>     <td>    1.3094</td> <td>    0.131</td> <td>   10.018</td> <td> 0.000</td> <td>    1.053</td> <td>    1.566</td>\n",
       "</tr>\n",
       "<tr>\n",
       "  <th>Street_Pave</th>     <td>    1.4045</td> <td>    0.125</td> <td>   11.235</td> <td> 0.000</td> <td>    1.159</td> <td>    1.650</td>\n",
       "</tr>\n",
       "</table>\n",
       "<table class=\"simpletable\">\n",
       "<tr>\n",
       "  <th>Omnibus:</th>       <td>637.371</td> <th>  Durbin-Watson:     </th> <td>   2.003</td> \n",
       "</tr>\n",
       "<tr>\n",
       "  <th>Prob(Omnibus):</th> <td> 0.000</td>  <th>  Jarque-Bera (JB):  </th> <td>10340.008</td>\n",
       "</tr>\n",
       "<tr>\n",
       "  <th>Skew:</th>          <td>-1.603</td>  <th>  Prob(JB):          </th> <td>    0.00</td> \n",
       "</tr>\n",
       "<tr>\n",
       "  <th>Kurtosis:</th>      <td>15.637</td>  <th>  Cond. No.          </th> <td>8.50e+19</td> \n",
       "</tr>\n",
       "</table><br/><br/>Notes:<br/>[1] Standard Errors assume that the covariance matrix of the errors is correctly specified.<br/>[2] The smallest eigenvalue is 1.27e-30. This might indicate that there are<br/>strong multicollinearity problems or that the design matrix is singular."
      ],
      "text/plain": [
       "<class 'statsmodels.iolib.summary.Summary'>\n",
       "\"\"\"\n",
       "                            OLS Regression Results                            \n",
       "==============================================================================\n",
       "Dep. Variable:              SalePrice   R-squared:                       0.815\n",
       "Model:                            OLS   Adj. R-squared:                  0.813\n",
       "Method:                 Least Squares   F-statistic:                     578.6\n",
       "Date:                Sat, 17 Apr 2021   Prob (F-statistic):               0.00\n",
       "Time:                        22:17:48   Log-Likelihood:                 499.07\n",
       "No. Observations:                1460   AIC:                            -974.1\n",
       "Df Residuals:                    1448   BIC:                            -910.7\n",
       "Df Model:                          11                                         \n",
       "Covariance Type:            nonrobust                                         \n",
       "===================================================================================\n",
       "                      coef    std err          t      P>|t|      [0.025      0.975]\n",
       "-----------------------------------------------------------------------------------\n",
       "const               2.7140      0.246     11.051      0.000       2.232       3.196\n",
       "YearBuilt           0.0031      0.000     14.218      0.000       0.003       0.004\n",
       "FullBath           -0.0033      0.012     -0.272      0.786      -0.027       0.021\n",
       "BedroomAbvGr       -0.0192      0.007     -2.621      0.009      -0.034      -0.005\n",
       "OverallQual         0.1084      0.005     20.214      0.000       0.098       0.119\n",
       "GarageCars          0.0852      0.008     10.244      0.000       0.069       0.102\n",
       "GrLivArea           0.0003   1.47e-05     18.929      0.000       0.000       0.000\n",
       "BldgType_1Fam       0.6352      0.050     12.730      0.000       0.537       0.733\n",
       "BldgType_2fmCon     0.6199      0.051     12.084      0.000       0.519       0.721\n",
       "BldgType_Duplex     0.5199      0.054      9.540      0.000       0.413       0.627\n",
       "BldgType_Twnhs      0.4067      0.057      7.150      0.000       0.295       0.518\n",
       "BldgType_TwnhsE     0.5324      0.054      9.825      0.000       0.426       0.639\n",
       "Street_Grvl         1.3094      0.131     10.018      0.000       1.053       1.566\n",
       "Street_Pave         1.4045      0.125     11.235      0.000       1.159       1.650\n",
       "==============================================================================\n",
       "Omnibus:                      637.371   Durbin-Watson:                   2.003\n",
       "Prob(Omnibus):                  0.000   Jarque-Bera (JB):            10340.008\n",
       "Skew:                          -1.603   Prob(JB):                         0.00\n",
       "Kurtosis:                      15.637   Cond. No.                     8.50e+19\n",
       "==============================================================================\n",
       "\n",
       "Notes:\n",
       "[1] Standard Errors assume that the covariance matrix of the errors is correctly specified.\n",
       "[2] The smallest eigenvalue is 1.27e-30. This might indicate that there are\n",
       "strong multicollinearity problems or that the design matrix is singular.\n",
       "\"\"\""
      ]
     },
     "execution_count": 64,
     "metadata": {},
     "output_type": "execute_result"
    }
   ],
   "source": [
    "X1 = sm.add_constant(X1)\n",
    "result = sm.OLS(y1, X1).fit()\n",
    "result.summary()"
   ]
  },
  {
   "cell_type": "markdown",
   "metadata": {},
   "source": [
    "FullBath özniteliğim istatiksel açıdan anlamlı değildir. Diğerleri anlamlıdır."
   ]
  },
  {
   "cell_type": "markdown",
   "metadata": {},
   "source": [
    "Şimdi, anlamsız özellikleri modelinizden hariç tutun. Bir şey değişti mi?"
   ]
  },
  {
   "cell_type": "code",
   "execution_count": 69,
   "metadata": {},
   "outputs": [],
   "source": [
    "df2 = df.drop(['FullBath'], axis=1)\n",
    "x = df2.drop(['SalePrice'], axis=1)\n",
    "y = np.log(df.SalePrice)\n",
    "x=pd.get_dummies(x)"
   ]
  },
  {
   "cell_type": "code",
   "execution_count": 70,
   "metadata": {},
   "outputs": [
    {
     "data": {
      "text/html": [
       "<table class=\"simpletable\">\n",
       "<caption>OLS Regression Results</caption>\n",
       "<tr>\n",
       "  <th>Dep. Variable:</th>        <td>SalePrice</td>    <th>  R-squared:         </th> <td>   0.815</td>\n",
       "</tr>\n",
       "<tr>\n",
       "  <th>Model:</th>                   <td>OLS</td>       <th>  Adj. R-squared:    </th> <td>   0.813</td>\n",
       "</tr>\n",
       "<tr>\n",
       "  <th>Method:</th>             <td>Least Squares</td>  <th>  F-statistic:       </th> <td>   636.8</td>\n",
       "</tr>\n",
       "<tr>\n",
       "  <th>Date:</th>             <td>Sat, 17 Apr 2021</td> <th>  Prob (F-statistic):</th>  <td>  0.00</td> \n",
       "</tr>\n",
       "<tr>\n",
       "  <th>Time:</th>                 <td>22:20:24</td>     <th>  Log-Likelihood:    </th> <td>  499.03</td>\n",
       "</tr>\n",
       "<tr>\n",
       "  <th>No. Observations:</th>      <td>  1460</td>      <th>  AIC:               </th> <td>  -976.1</td>\n",
       "</tr>\n",
       "<tr>\n",
       "  <th>Df Residuals:</th>          <td>  1449</td>      <th>  BIC:               </th> <td>  -917.9</td>\n",
       "</tr>\n",
       "<tr>\n",
       "  <th>Df Model:</th>              <td>    10</td>      <th>                     </th>     <td> </td>   \n",
       "</tr>\n",
       "<tr>\n",
       "  <th>Covariance Type:</th>      <td>nonrobust</td>    <th>                     </th>     <td> </td>   \n",
       "</tr>\n",
       "</table>\n",
       "<table class=\"simpletable\">\n",
       "<tr>\n",
       "         <td></td>            <th>coef</th>     <th>std err</th>      <th>t</th>      <th>P>|t|</th>  <th>[0.025</th>    <th>0.975]</th>  \n",
       "</tr>\n",
       "<tr>\n",
       "  <th>const</th>           <td>    2.7355</td> <td>    0.232</td> <td>   11.775</td> <td> 0.000</td> <td>    2.280</td> <td>    3.191</td>\n",
       "</tr>\n",
       "<tr>\n",
       "  <th>YearBuilt</th>       <td>    0.0031</td> <td>    0.000</td> <td>   14.936</td> <td> 0.000</td> <td>    0.003</td> <td>    0.003</td>\n",
       "</tr>\n",
       "<tr>\n",
       "  <th>BedroomAbvGr</th>    <td>   -0.0196</td> <td>    0.007</td> <td>   -2.718</td> <td> 0.007</td> <td>   -0.034</td> <td>   -0.005</td>\n",
       "</tr>\n",
       "<tr>\n",
       "  <th>OverallQual</th>     <td>    0.1083</td> <td>    0.005</td> <td>   20.269</td> <td> 0.000</td> <td>    0.098</td> <td>    0.119</td>\n",
       "</tr>\n",
       "<tr>\n",
       "  <th>GarageCars</th>      <td>    0.0851</td> <td>    0.008</td> <td>   10.246</td> <td> 0.000</td> <td>    0.069</td> <td>    0.101</td>\n",
       "</tr>\n",
       "<tr>\n",
       "  <th>GrLivArea</th>       <td>    0.0003</td> <td> 1.37e-05</td> <td>   20.207</td> <td> 0.000</td> <td>    0.000</td> <td>    0.000</td>\n",
       "</tr>\n",
       "<tr>\n",
       "  <th>BldgType_1Fam</th>   <td>    0.6400</td> <td>    0.047</td> <td>   13.733</td> <td> 0.000</td> <td>    0.549</td> <td>    0.731</td>\n",
       "</tr>\n",
       "<tr>\n",
       "  <th>BldgType_2fmCon</th> <td>    0.6239</td> <td>    0.049</td> <td>   12.702</td> <td> 0.000</td> <td>    0.528</td> <td>    0.720</td>\n",
       "</tr>\n",
       "<tr>\n",
       "  <th>BldgType_Duplex</th> <td>    0.5239</td> <td>    0.052</td> <td>    9.989</td> <td> 0.000</td> <td>    0.421</td> <td>    0.627</td>\n",
       "</tr>\n",
       "<tr>\n",
       "  <th>BldgType_Twnhs</th>  <td>    0.4110</td> <td>    0.055</td> <td>    7.530</td> <td> 0.000</td> <td>    0.304</td> <td>    0.518</td>\n",
       "</tr>\n",
       "<tr>\n",
       "  <th>BldgType_TwnhsE</th> <td>    0.5368</td> <td>    0.052</td> <td>   10.383</td> <td> 0.000</td> <td>    0.435</td> <td>    0.638</td>\n",
       "</tr>\n",
       "<tr>\n",
       "  <th>Street_Grvl</th>     <td>    1.3206</td> <td>    0.124</td> <td>   10.642</td> <td> 0.000</td> <td>    1.077</td> <td>    1.564</td>\n",
       "</tr>\n",
       "<tr>\n",
       "  <th>Street_Pave</th>     <td>    1.4150</td> <td>    0.119</td> <td>   11.899</td> <td> 0.000</td> <td>    1.182</td> <td>    1.648</td>\n",
       "</tr>\n",
       "</table>\n",
       "<table class=\"simpletable\">\n",
       "<tr>\n",
       "  <th>Omnibus:</th>       <td>634.330</td> <th>  Durbin-Watson:     </th> <td>   2.003</td> \n",
       "</tr>\n",
       "<tr>\n",
       "  <th>Prob(Omnibus):</th> <td> 0.000</td>  <th>  Jarque-Bera (JB):  </th> <td>10173.112</td>\n",
       "</tr>\n",
       "<tr>\n",
       "  <th>Skew:</th>          <td>-1.596</td>  <th>  Prob(JB):          </th> <td>    0.00</td> \n",
       "</tr>\n",
       "<tr>\n",
       "  <th>Kurtosis:</th>      <td>15.531</td>  <th>  Cond. No.          </th> <td>6.10e+19</td> \n",
       "</tr>\n",
       "</table><br/><br/>Notes:<br/>[1] Standard Errors assume that the covariance matrix of the errors is correctly specified.<br/>[2] The smallest eigenvalue is 2.47e-30. This might indicate that there are<br/>strong multicollinearity problems or that the design matrix is singular."
      ],
      "text/plain": [
       "<class 'statsmodels.iolib.summary.Summary'>\n",
       "\"\"\"\n",
       "                            OLS Regression Results                            \n",
       "==============================================================================\n",
       "Dep. Variable:              SalePrice   R-squared:                       0.815\n",
       "Model:                            OLS   Adj. R-squared:                  0.813\n",
       "Method:                 Least Squares   F-statistic:                     636.8\n",
       "Date:                Sat, 17 Apr 2021   Prob (F-statistic):               0.00\n",
       "Time:                        22:20:24   Log-Likelihood:                 499.03\n",
       "No. Observations:                1460   AIC:                            -976.1\n",
       "Df Residuals:                    1449   BIC:                            -917.9\n",
       "Df Model:                          10                                         \n",
       "Covariance Type:            nonrobust                                         \n",
       "===================================================================================\n",
       "                      coef    std err          t      P>|t|      [0.025      0.975]\n",
       "-----------------------------------------------------------------------------------\n",
       "const               2.7355      0.232     11.775      0.000       2.280       3.191\n",
       "YearBuilt           0.0031      0.000     14.936      0.000       0.003       0.003\n",
       "BedroomAbvGr       -0.0196      0.007     -2.718      0.007      -0.034      -0.005\n",
       "OverallQual         0.1083      0.005     20.269      0.000       0.098       0.119\n",
       "GarageCars          0.0851      0.008     10.246      0.000       0.069       0.101\n",
       "GrLivArea           0.0003   1.37e-05     20.207      0.000       0.000       0.000\n",
       "BldgType_1Fam       0.6400      0.047     13.733      0.000       0.549       0.731\n",
       "BldgType_2fmCon     0.6239      0.049     12.702      0.000       0.528       0.720\n",
       "BldgType_Duplex     0.5239      0.052      9.989      0.000       0.421       0.627\n",
       "BldgType_Twnhs      0.4110      0.055      7.530      0.000       0.304       0.518\n",
       "BldgType_TwnhsE     0.5368      0.052     10.383      0.000       0.435       0.638\n",
       "Street_Grvl         1.3206      0.124     10.642      0.000       1.077       1.564\n",
       "Street_Pave         1.4150      0.119     11.899      0.000       1.182       1.648\n",
       "==============================================================================\n",
       "Omnibus:                      634.330   Durbin-Watson:                   2.003\n",
       "Prob(Omnibus):                  0.000   Jarque-Bera (JB):            10173.112\n",
       "Skew:                          -1.596   Prob(JB):                         0.00\n",
       "Kurtosis:                      15.531   Cond. No.                     6.10e+19\n",
       "==============================================================================\n",
       "\n",
       "Notes:\n",
       "[1] Standard Errors assume that the covariance matrix of the errors is correctly specified.\n",
       "[2] The smallest eigenvalue is 2.47e-30. This might indicate that there are\n",
       "strong multicollinearity problems or that the design matrix is singular.\n",
       "\"\"\""
      ]
     },
     "execution_count": 70,
     "metadata": {},
     "output_type": "execute_result"
    }
   ],
   "source": [
    "x = sm.add_constant(x)\n",
    "result = sm.OLS(y, x).fit()\n",
    "result.summary()"
   ]
  },
  {
   "cell_type": "markdown",
   "metadata": {},
   "source": [
    "Katsayılarda ufak değişiklikler oldu. Ayrıca p değerlerinden birinde bir değişken için değişti."
   ]
  },
  {
   "cell_type": "markdown",
   "metadata": {},
   "source": [
    "Ev fiyatları ile olan ilişkilerini belirleyerek istatistiksel olarak anlamlı katsayıları yorumlayın. Ev fiyatları üzerinde hangi özellikler daha belirgin bir etkiye sahiptir?"
   ]
  },
  {
   "cell_type": "code",
   "execution_count": null,
   "metadata": {},
   "outputs": [],
   "source": [
    "Street değişkeni, buildingtype belirgin gözüküyor. Bunlar kategorik değişkenler. Örnek dubleks olması \n",
    "BldgType_Duplex\t0.5239 0*5 katı demek, çiftlik evi olması 0,64 katı gibi yorumlanabilir satış fiyatına etkisi."
   ]
  },
  {
   "cell_type": "markdown",
   "metadata": {},
   "source": [
    "Sonuçlar size mantıklı geliyor mu? Değilse, potansiyel nedenleri açıklamaya çalışın."
   ]
  }
 ],
 "metadata": {
  "kernelspec": {
   "display_name": "Python 3",
   "language": "python",
   "name": "python3"
  },
  "language_info": {
   "codemirror_mode": {
    "name": "ipython",
    "version": 3
   },
   "file_extension": ".py",
   "mimetype": "text/x-python",
   "name": "python",
   "nbconvert_exporter": "python",
   "pygments_lexer": "ipython3",
   "version": "3.8.5"
  }
 },
 "nbformat": 4,
 "nbformat_minor": 4
}
