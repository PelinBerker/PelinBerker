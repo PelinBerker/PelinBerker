{
 "cells": [
  {
   "cell_type": "code",
   "execution_count": null,
   "metadata": {},
   "outputs": [],
   "source": [
    "Keşifsel Veri Analizinin amacı nedir?\n",
    "\n",
    "Bir e-ticaret şirketinin ürünlerine ait müşteri yorumlarını içeren bir veri kümesi üzerinde çalıştığınızı farz edin. Şirketin web sitesi aracılığıyla toplanan müşteri yorumları içeriğinin olumlu ya da olumsuz olmasına göre 1 ila 5 arasında derecelendirilmiştir.\n",
    "\n",
    "a. Bu ham veride ne tür problemlerle karşılaşmayı beklersiniz?\n",
    "\n",
    "b. Göreviniz müşterilerin yorumlarının olumlu yada olumsuz olduğunu ortaya çıkaran özellikleri belirlemek olsaydı nasıl bir yaplaşımda bulunur ve bunun için hangi metodları kullanırdınız?\n",
    "\n",
    "c. Ham veriden çıkarılabilecek yararlı özelliklerin neler olabilir? Bu verilere nasıl ulaşılabilirsiniz ve bunların faydalı olup olmayacağını nasıl anlayabilirsiniz?"
   ]
  },
  {
   "cell_type": "markdown",
   "metadata": {},
   "source": [
    "Keşifsel veri analizinin amacı ; verilerimizi anlamayı, verilerden bir şeyler çıkarmayı sağlar. Daha sonra yapacağımız modellemeler için ona sorduğumuz sorulara cevaplar alabilmemiz için öncelikli verilerde keşif yaparız. Bu ham verilerimizde kaliteli bilgiye dönüştürmek adına yapılması gerekir. Verileri temizleriz.eksik aykırı değerlerimize bakar neler yapabileceğimize bakarız.Aralarındaki bağlantılar var mı onları bulmaya çalışırız. Görselleştirerek verileri tanırız.Ardından fazla boyutlarımız varsa bunları düzenleriz. Ya da anlaşılması adına bu kolonları dönüştürürüz. Tekrar bir şeyler bulursak başa döner temizlik tekrar yaparız. "
   ]
  },
  {
   "cell_type": "markdown",
   "metadata": {},
   "source": [
    "a. Öncelikle 1-5 arası verilen puanlarda boşlar olabilir. Kişiler yorum yapmamış olabilir. \n",
    "O zaman bu satırları silebiliriz ya da her bir ürün grubuna ait ortalamayı o ürün gruplarında boş olanlara onu yazabiliriz.\n"
   ]
  },
  {
   "cell_type": "markdown",
   "metadata": {},
   "source": [
    "b.Ürüne ait özellikleri sütunlar bazında yazabilirdik. ürüne ait çıkarımlarda bulurduk. Korelasyon ve istatiksel testleri kullanarak \n",
    "burada bu çıkarımlarda bulunabilirdik.\n",
    "ya da müşterileri kategorikleştirebiliriz. Müşterilerin yaş cinsiyet öğrenim durumu gibi durumları ile olumlu olumsuz şikayetlere bakabilirdik.\n",
    "Chikare testi uygulayabilirdik buradada."
   ]
  },
  {
   "cell_type": "markdown",
   "metadata": {},
   "source": [
    "c.ham verilerden genel özelliklerine describe info gibi phytonda bazı fonksiyonlarla bakabiliriz. bunların faydalı olup olmayacağına\n",
    "belirleyeceğimiz hedef ya da hedef değişkenlere göre yapacağımız analizleri düşünerek karar verebiliriz ardından yapacağımız istatiksel\n",
    "testler ile karar verebiliriz. Görselleştirerek de bakmak faydalı olur."
   ]
  }
 ],
 "metadata": {
  "kernelspec": {
   "display_name": "Python 3",
   "language": "python",
   "name": "python3"
  },
  "language_info": {
   "codemirror_mode": {
    "name": "ipython",
    "version": 3
   },
   "file_extension": ".py",
   "mimetype": "text/x-python",
   "name": "python",
   "nbconvert_exporter": "python",
   "pygments_lexer": "ipython3",
   "version": "3.8.5"
  }
 },
 "nbformat": 4,
 "nbformat_minor": 4
}
